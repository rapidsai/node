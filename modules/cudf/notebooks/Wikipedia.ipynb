{
  "cells": [
    {
      "cell_type": "markdown",
      "source": [
        "## Simple ETL / Exploration with node-rapids\n",
        "\n",
        "This notebook will demonstrate how basic APIs from `node-rapids` ([GitHub](https://github.com/rapidsai/node-rapids), [docs](https://rapidsai.github.io/node-rapids/)) may be used to load and process data from the GPU in Node.\n",
        "\n",
        "First, we load the cudf module from `node-rapids`:"
      ],
      "metadata": {
        "nteract": {
          "transient": {
            "deleting": false
          }
        }
      }
    },
    {
      "cell_type": "code",
      "source": [
        "cudf = require(\"@rapidsai/cudf\");"
      ],
      "outputs": [
        {
          "output_type": "execute_result",
          "execution_count": 1,
          "data": {
            "text/plain": "{\n  addon: [Getter],\n  Column: [Getter],\n  DataFrame: [Getter],\n  GroupByMultiple: [Getter],\n  GroupBySingle: [Getter],\n  AbstractSeries: [Getter],\n  Series: [Getter],\n  Bool8Series: [Getter],\n  Float32Series: [Getter],\n  Float64Series: [Getter],\n  Int8Series: [Getter],\n  Int16Series: [Getter],\n  Int32Series: [Getter],\n  Uint8Series: [Getter],\n  Uint16Series: [Getter],\n  Uint32Series: [Getter],\n  Int64Series: [Getter],\n  Uint64Series: [Getter],\n  StringSeries: [Getter],\n  ListSeries: [Getter],\n  StructSeries: [Getter],\n  Table: [Getter],\n  NullOrder: [Getter],\n  DuplicateKeepOption: [Getter],\n  Int8: [Getter],\n  Int16: [Getter],\n  Int32: [Getter],\n  Int64: [Getter],\n  Uint8: [Getter],\n  Uint16: [Getter],\n  Uint32: [Getter],\n  Uint64: [Getter],\n  Float32: [Getter],\n  Float64: [Getter],\n  Bool8: [Getter],\n  Utf8String: [Getter],\n  List: [Getter],\n  Struct: [Getter],\n  TimestampDay: [Getter],\n  TimestampSecond: [Getter],\n  TimestampMillisecond: [Getter],\n  TimestampMicrosecond: [Getter],\n  TimestampNanosecond: [Getter],\n  Categorical: [Getter],\n  FloatTypes: [Getter],\n  IntegralTypes: [Getter],\n  NumericTypes: [Getter],\n  Interpolation: [Getter],\n  findCommonType: [Getter],\n  arrowToCUDFType: [Getter]\n}"
          },
          "metadata": {}
        }
      ],
      "execution_count": 1,
      "metadata": {
        "collapsed": true,
        "jupyter": {
          "source_hidden": false,
          "outputs_hidden": true
        },
        "nteract": {
          "transient": {
            "deleting": false
          }
        },
        "execution": {
          "iopub.status.busy": "2021-10-13T18:51:49.820Z",
          "iopub.execute_input": "2021-10-13T18:51:49.834Z",
          "iopub.status.idle": "2021-10-13T18:51:50.050Z",
          "shell.execute_reply": "2021-10-13T18:51:50.015Z"
        }
      }
    },
    {
      "cell_type": "markdown",
      "source": [
        "We are going to look at some data from Wikipedia. The data is broken up into ten files. Let's load one of them:"
      ],
      "metadata": {
        "nteract": {
          "transient": {
            "deleting": false
          }
        }
      }
    },
    {
      "cell_type": "code",
      "source": [
        "console.time(\"readCSV\")\n",
        "df = cudf.DataFrame.readCSV({header: 0, sourceType: 'files', sources: [\"data/page_titles_en_0.csv\"]})\n",
        "console.timeEnd(\"readCSV\")"
      ],
      "outputs": [
        {
          "output_type": "stream",
          "name": "stdout",
          "text": [
            "readCSV: 1.341s\n"
          ]
        }
      ],
      "execution_count": 2,
      "metadata": {
        "collapsed": true,
        "jupyter": {
          "source_hidden": false,
          "outputs_hidden": false
        },
        "nteract": {
          "transient": {
            "deleting": false
          }
        },
        "execution": {
          "iopub.status.busy": "2021-10-13T18:51:51.439Z",
          "iopub.execute_input": "2021-10-13T18:51:51.453Z",
          "iopub.status.idle": "2021-10-13T18:51:52.750Z",
          "shell.execute_reply": "2021-10-13T18:51:52.772Z"
        }
      }
    },
    {
      "cell_type": "markdown",
      "source": [
        "Now that we have loaded the CSV into a GPU DataFrame `df` we can look at some basic information like number of rows and columns:"
      ],
      "metadata": {
        "nteract": {
          "transient": {
            "deleting": false
          }
        }
      }
    },
    {
      "cell_type": "code",
      "source": [
        "console.log(\"Number of rows:\", df.numRows)\n",
        "console.log(\"Number of cols:\", df.numColumns)\n",
        "console.log(\"Columns:\", df.names)"
      ],
      "outputs": [
        {
          "output_type": "stream",
          "name": "stdout",
          "text": [
            "Number of rows: 1593959\n",
            "Number of cols: 5\n",
            "Columns: [ 'id', 'revid', 'url', 'title', 'text' ]\n"
          ]
        }
      ],
      "execution_count": 3,
      "metadata": {
        "collapsed": true,
        "jupyter": {
          "source_hidden": false,
          "outputs_hidden": false
        },
        "nteract": {
          "transient": {
            "deleting": false
          }
        },
        "execution": {
          "iopub.status.busy": "2021-10-13T18:51:58.261Z",
          "iopub.execute_input": "2021-10-13T18:51:58.276Z",
          "iopub.status.idle": "2021-10-13T18:51:58.383Z",
          "shell.execute_reply": "2021-10-13T18:51:58.395Z"
        }
      }
    },
    {
      "cell_type": "markdown",
      "source": [
        "This data set may have columns we don't really care about. We can pare things down using the `Datafame.drop` method:"
      ],
      "metadata": {
        "nteract": {
          "transient": {
            "deleting": false
          }
        }
      }
    },
    {
      "cell_type": "code",
      "source": [
        "df = df.drop(['revid'])"
      ],
      "outputs": [
        {
          "output_type": "execute_result",
          "execution_count": 4,
          "data": {
            "text/plain": "DataFrame {\n  _accessor: ColumnAccessor {\n    _data: {\n      id: Column {},\n      url: Column {},\n      title: Column {},\n      text: Column {}\n    },\n    _types: undefined,\n    _names: [ 'id', 'url', 'title', 'text' ],\n    _columns: undefined,\n    _labels_to_indices: Map(4) { 'id' => 0, 'url' => 1, 'title' => 2, 'text' => 3 }\n  }\n}"
          },
          "metadata": {}
        }
      ],
      "execution_count": 4,
      "metadata": {
        "collapsed": true,
        "jupyter": {
          "source_hidden": false,
          "outputs_hidden": true
        },
        "nteract": {
          "transient": {
            "deleting": false
          }
        },
        "execution": {
          "iopub.status.busy": "2021-10-13T18:52:00.189Z",
          "iopub.execute_input": "2021-10-13T18:52:00.198Z",
          "iopub.status.idle": "2021-10-13T18:52:00.219Z",
          "shell.execute_reply": "2021-10-13T18:52:00.227Z"
        }
      }
    },
    {
      "cell_type": "markdown",
      "source": [
        "We can also get a quick preview of the table by using `toString` (similar to Pandas or cudf `.head()` method)"
      ],
      "metadata": {
        "nteract": {
          "transient": {
            "deleting": false
          }
        }
      }
    },
    {
      "cell_type": "code",
      "source": [
        "console.log(df.toString())"
      ],
      "outputs": [
        {
          "output_type": "stream",
          "name": "stdout",
          "text": [
            "      id                                          url                                            title text\n",
            " 6140642  https://en.wikipedia.org/wiki?curid=6140642                        Scorpion (roller coaster)  ...\n",
            " 6140647  https://en.wikipedia.org/wiki?curid=6140647                                       Metamutant null\n",
            " 6140648  https://en.wikipedia.org/wiki?curid=6140648                           Standardisation policy null\n",
            " 6140651  https://en.wikipedia.org/wiki?curid=6140651                        Baron Grey of Chillingham null\n",
            " 6140652  https://en.wikipedia.org/wiki?curid=6140652                    General Hospital (Blackadder)  ...\n",
            " 6140657  https://en.wikipedia.org/wiki?curid=6140657                                         Tokarahi  ...\n",
            " 6140662  https://en.wikipedia.org/wiki?curid=6140662                                  Angel (musical)  ...\n",
            " 6140664  https://en.wikipedia.org/wiki?curid=6140664               Berlin Township, Erie County, Ohio  ...\n",
            " 6140673  https://en.wikipedia.org/wiki?curid=6140673             Florence Township, Erie County, Ohio  ...\n",
            " 6140676  https://en.wikipedia.org/wiki?curid=6140676                       Culture of Póvoa de Varzim  ...\n",
            " 6140680  https://en.wikipedia.org/wiki?curid=6140680               Groton Township, Erie County, Ohio  ...\n",
            " 6140682  https://en.wikipedia.org/wiki?curid=6140682                               Jean-Denis Attiret null\n",
            " 6140683  https://en.wikipedia.org/wiki?curid=6140683                                Salix canariensis null\n",
            " 6140695  https://en.wikipedia.org/wiki?curid=6140695                Huron Township, Erie County, Ohio  ...\n",
            " 6140700  https://en.wikipedia.org/wiki?curid=6140700                                  Jean de Florian null\n",
            " 6140701  https://en.wikipedia.org/wiki?curid=6140701                                Septemberprogramm  ...\n",
            " 6140705  https://en.wikipedia.org/wiki?curid=6140705           Margaretta Township, Erie County, Ohio  ...\n",
            " 6140707  https://en.wikipedia.org/wiki?curid=6140707                                    Ruellia densa  ...\n",
            " 6140709  https://en.wikipedia.org/wiki?curid=6140709                              September programme null\n",
            " 6140710  https://en.wikipedia.org/wiki?curid=6140710                Milan Township, Erie County, Ohio  ...\n",
            " 6140711  https://en.wikipedia.org/wiki?curid=6140711                                September program null\n",
            " 6140717  https://en.wikipedia.org/wiki?curid=6140717                                      Landaulette null\n",
            " 6140719  https://en.wikipedia.org/wiki?curid=6140719                                              ... null\n",
            " 6140720  https://en.wikipedia.org/wiki?curid=6140720            Vermilion Township, Erie County, Ohio  ...\n",
            " 6140724  https://en.wikipedia.org/wiki?curid=6140724                            Bethmann-Hollweg Plan null\n",
            " 6140725  https://en.wikipedia.org/wiki?curid=6140725                         Samuel Wendall Williston null\n",
            " 6140727  https://en.wikipedia.org/wiki?curid=6140727                                  Gustave Wappers null\n",
            " 6140730  https://en.wikipedia.org/wiki?curid=6140730                                   Salma bint Amr  ...\n",
            " 6140736  https://en.wikipedia.org/wiki?curid=6140736                       Gustav Gustavovich Klutsis null\n",
            "     ...                                          ...                                              ...  ...\n",
            "43995780 https://en.wikipedia.org/wiki?curid=43995780                                           Soosiz  ...\n",
            "43995783 https://en.wikipedia.org/wiki?curid=43995783          ARIA Award for Best Independent Release  ...\n",
            "43995797 https://en.wikipedia.org/wiki?curid=43995797                       Robert Joseph (basketball)  ...\n",
            "43995802 https://en.wikipedia.org/wiki?curid=43995802 Southeastern Armed Forces Museum Military Zone 7  ...\n",
            "43995807 https://en.wikipedia.org/wiki?curid=43995807         Zone 7 Military Museum, Ho Chi Minh City null\n",
            "43995820 https://en.wikipedia.org/wiki?curid=43995820                              Holt-Harrison House  ...\n",
            "43995822 https://en.wikipedia.org/wiki?curid=43995822                                 Scottish Marxist null\n",
            "43995824 https://en.wikipedia.org/wiki?curid=43995824        Union Station (Pittsfield, Massachusetts) null\n",
            "43995831 https://en.wikipedia.org/wiki?curid=43995831                  Dundee Courier &amp; Advertiser null\n",
            "43995832 https://en.wikipedia.org/wiki?curid=43995832                    Dundee Courier and Advertiser null\n",
            "43995838 https://en.wikipedia.org/wiki?curid=43995838            The Reincarnation of the Golden Lotus null\n",
            "43995849 https://en.wikipedia.org/wiki?curid=43995849                           Iranian civil calendar null\n",
            "43995850 https://en.wikipedia.org/wiki?curid=43995850                               Taylor-Utley House  ...\n",
            "43995855 https://en.wikipedia.org/wiki?curid=43995855                             Maccabi Thessaloniki  ...\n",
            "43995870 https://en.wikipedia.org/wiki?curid=43995870                            Nachtjagdgeschwader 6  ...\n",
            "43995873 https://en.wikipedia.org/wiki?curid=43995873                            Devane-MacQueen House  ...\n",
            "43995874 https://en.wikipedia.org/wiki?curid=43995874           List of compositions by Eduard Strauss  ...\n",
            "43995877 https://en.wikipedia.org/wiki?curid=43995877                                      Shabbos App  ...\n",
            "43995887 https://en.wikipedia.org/wiki?curid=43995887                                            NJG 6 null\n",
            "43995890 https://en.wikipedia.org/wiki?curid=43995890                                  Ben Bridgewater  ...\n",
            "43995893 https://en.wikipedia.org/wiki?curid=43995893                                        Pausandra  ...\n",
            "43995895 https://en.wikipedia.org/wiki?curid=43995895                Comparative ranks of Nazi Germany  ...\n",
            "43995911 https://en.wikipedia.org/wiki?curid=43995911                                 Pittsfield Depot null\n",
            "43995915 https://en.wikipedia.org/wiki?curid=43995915                                         Squarine null\n",
            "43995924 https://en.wikipedia.org/wiki?curid=43995924                                              ... null\n",
            "43995927 https://en.wikipedia.org/wiki?curid=43995927                                     Dueto Acosta  ...\n",
            "43995929 https://en.wikipedia.org/wiki?curid=43995929                           McArthur-Council House  ...\n",
            "43995931 https://en.wikipedia.org/wiki?curid=43995931                                         El Asira  ...\n",
            "43995932 https://en.wikipedia.org/wiki?curid=43995932                                   Damian Carroll  ...\n",
            "\n"
          ]
        }
      ],
      "execution_count": 5,
      "metadata": {
        "collapsed": true,
        "jupyter": {
          "source_hidden": false,
          "outputs_hidden": false
        },
        "nteract": {
          "transient": {
            "deleting": false
          }
        },
        "execution": {
          "iopub.status.busy": "2021-10-13T18:52:18.719Z",
          "iopub.execute_input": "2021-10-13T18:52:18.729Z",
          "iopub.status.idle": "2021-10-13T18:52:19.118Z",
          "shell.execute_reply": "2021-10-13T18:52:19.143Z"
        }
      }
    },
    {
      "cell_type": "markdown",
      "source": [
        "We can use basic column methods to quickly ask questions like: What is the longest title?"
      ],
      "metadata": {
        "nteract": {
          "transient": {
            "deleting": false
          }
        }
      }
    },
    {
      "cell_type": "code",
      "source": [
        "df.get('title').len().max()"
      ],
      "outputs": [
        {
          "output_type": "execute_result",
          "execution_count": 6,
          "data": {
            "text/plain": "228"
          },
          "metadata": {}
        }
      ],
      "execution_count": 6,
      "metadata": {
        "collapsed": true,
        "jupyter": {
          "source_hidden": false,
          "outputs_hidden": false
        },
        "nteract": {
          "transient": {
            "deleting": false
          }
        },
        "execution": {
          "iopub.status.busy": "2021-10-13T18:52:23.497Z",
          "iopub.execute_input": "2021-10-13T18:52:23.507Z",
          "iopub.status.idle": "2021-10-13T18:52:23.527Z",
          "shell.execute_reply": "2021-10-13T18:52:23.537Z"
        }
      }
    },
    {
      "cell_type": "code",
      "source": [
        "title = df.get('title')\n",
        "\n",
        "console.log([...title.filter(title.len().eq(228))])\n"
      ],
      "outputs": [
        {
          "output_type": "stream",
          "name": "stdout",
          "text": [
            "[\n",
            "  'Agreement for the Implementation of the Provisions of the United Nations Convention on the Law of the Sea of 10 December 1982 relating to the Conservation and Management of Straddling Fish Stocks and Highly Migratory Fish Stocks'\n",
            "]\n"
          ]
        }
      ],
      "execution_count": 7,
      "metadata": {
        "collapsed": true,
        "jupyter": {
          "source_hidden": false,
          "outputs_hidden": false
        },
        "nteract": {
          "transient": {
            "deleting": false
          }
        },
        "execution": {
          "iopub.status.busy": "2021-10-13T18:52:26.316Z",
          "iopub.execute_input": "2021-10-13T18:52:26.330Z",
          "iopub.status.idle": "2021-10-13T18:52:26.696Z",
          "shell.execute_reply": "2021-10-13T18:52:26.713Z"
        }
      }
    },
    {
      "cell_type": "markdown",
      "source": [
        "Or similarly, what is the longest article lengths:"
      ],
      "metadata": {
        "nteract": {
          "transient": {
            "deleting": false
          }
        }
      }
    },
    {
      "cell_type": "code",
      "source": [
        "text = df.get('text')\n",
        "\n",
        "console.log(\"Max text:\", text.len().max())"
      ],
      "outputs": [
        {
          "output_type": "stream",
          "name": "stdout",
          "text": [
            "Min text: 1\n",
            "Max text: 236433\n"
          ]
        }
      ],
      "execution_count": 25,
      "metadata": {
        "collapsed": true,
        "jupyter": {
          "source_hidden": false,
          "outputs_hidden": false
        },
        "nteract": {
          "transient": {
            "deleting": false
          }
        },
        "execution": {
          "iopub.status.busy": "2021-10-01T19:14:41.256Z",
          "iopub.execute_input": "2021-10-01T19:14:41.266Z",
          "iopub.status.idle": "2021-10-01T19:14:41.324Z",
          "shell.execute_reply": "2021-10-01T19:14:41.337Z"
        }
      }
    },
    {
      "cell_type": "markdown",
      "source": [
        "We might be interested to look filter by these subsets to see the average severity when each category is involved:"
      ],
      "metadata": {
        "nteract": {
          "transient": {
            "deleting": false
          }
        }
      }
    }
  ],
  "metadata": {
    "kernel_info": {
      "name": "javascript"
    },
    "language_info": {
      "name": "javascript",
      "version": "16.13.0",
      "mimetype": "application/javascript",
      "file_extension": ".js"
    },
    "kernelspec": {
      "argv": [
        "ijskernel",
        "--hide-undefined",
        "{connection_file}",
        "--protocol=5.0"
      ],
      "display_name": "Javascript (Node.js)",
      "language": "javascript",
      "name": "javascript"
    },
    "nteract": {
      "version": "0.28.0"
    }
  },
  "nbformat": 4,
  "nbformat_minor": 0
}
