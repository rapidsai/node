{
  "cells": [
    {
      "cell_type": "code",
      "source": [
        "var { DataFrame, Series, Int32 } = require('@rapidsai/cudf');\n",
        "var { Field, Vector, Float32, Struct, List, FixedSizeList } = require('apache-arrow');\n",
        "\n",
        "function readTracts() {\n",
        "\n",
        "    const { features } = JSON.parse(require('fs').readFileSync(\n",
        "        'data/san_francisco_censustracts.geojson',\n",
        "        { encoding: 'utf8' }\n",
        "    ));\n",
        "\n",
        "    // console.log(features[0])\n",
        "    // console.log(features[0].geometry)\n",
        "    // console.log(features[0].geometry.coordinates)\n",
        "    // console.log(features[0].geometry.coordinates[0][0][0])\n",
        "    // console.log(features[0].geometry.coordinates[0][0])\n",
        "    // console.log(features[0].geometry.coordinates[0])\n",
        "\n",
        "    const polygons = features\n",
        "        .filter((f) => f.geometry.type === 'MultiPolygon')\n",
        "        .reduce((x, { geometry }) => x.concat(geometry.coordinates), []);\n",
        "\n",
        "    return new DataFrame({\n",
        "        id: Series.sequence({ type: new Int32, init: 0, size: polygons.length }),\n",
        "        polygons: Series.new(featureToVector(polygons))\n",
        "    });\n",
        "\n",
        "    function featureToVector(coordinates) {\n",
        "        return Vector.from({\n",
        "            values: coordinates,\n",
        "            highWaterMark: Number.POSITIVE_INFINITY,\n",
        "            type: new List(Field.new({\n",
        "                name: 'rings', type: new List(Field.new({\n",
        "                    name: 'coords', type: new List(Field.new({\n",
        "                        name: 'points', type: new Float32()\n",
        "                    }))\n",
        "                }))\n",
        "            })),\n",
        "        });\n",
        "    }\n",
        "}\n",
        "\n",
        "console.time(\"read tracts GeoJSON\")\n",
        "\n",
        "var tracts = readTracts()\n",
        "\n",
        "console.timeEnd(\"read tracts GeoJSON\")\n",
        "\n",
        "console.log(tracts.toArrow().slice(0, 5).toArray())"
      ],
      "outputs": [],
      "execution_count": null,
      "metadata": {
        "collapsed": true,
        "jupyter": {
          "source_hidden": false,
          "outputs_hidden": false
        },
        "nteract": {
          "transient": {
            "deleting": false
          }
        },
        "execution": {
          "iopub.status.busy": "2021-04-07T00:03:10.085Z",
          "iopub.execute_input": "2021-04-07T00:03:10.089Z",
          "iopub.status.idle": "2021-04-07T00:03:12.170Z",
          "shell.execute_reply": "2021-04-07T00:03:12.198Z"
        }
      }
    },
    {
      "cell_type": "code",
      "source": [
        "function readTrips() {\n",
        "    const trips = DataFrame.readCSV({\n",
        "        header: 0,\n",
        "        sourceType: 'files',\n",
        "        sources: [('data/san_fran_uber.csv')],\n",
        "        dataTypes: {\n",
        "            sourceid: 'int16',\n",
        "            dstid: 'int16',\n",
        "            month: 'int8',\n",
        "            day: 'int8',\n",
        "            start_hour: 'int8',\n",
        "            end_hour: 'int8',\n",
        "            travel_time: 'float32'\n",
        "        }\n",
        "    });\n",
        "    return new DataFrame({\n",
        "        id: Series.sequence({ type: new Int32, init: 0, size: trips.numRows }),\n",
        "        sourceid: trips.get('sourceid'),\n",
        "        dstid: trips.get('dstid'),\n",
        "        month: trips.get('month'),\n",
        "        day: trips.get('day'),\n",
        "        start_hour: trips.get('start_hour'),\n",
        "        end_hour: trips.get('end_hour'),\n",
        "        travel_time: trips.get('travel_time'),\n",
        "    });\n",
        "}\n",
        "\n",
        "console.time(\"read trips CSV\")\n",
        "\n",
        "var trips = readTrips()\n",
        "\n",
        "console.timeEnd(\"read trips CSV\")\n",
        "\n",
        "console.log('number of trips:',\n",
        "    trips.numRows.toLocaleString())\n",
        "\n",
        "console.log(trips.toArrow().slice(0, 5).toArray())"
      ],
      "outputs": [],
      "execution_count": null,
      "metadata": {
        "collapsed": true,
        "jupyter": {
          "source_hidden": false,
          "outputs_hidden": false
        },
        "nteract": {
          "transient": {
            "deleting": false
          }
        },
        "execution": {
          "iopub.status.busy": "2021-04-07T00:03:12.177Z",
          "iopub.execute_input": "2021-04-07T00:03:12.180Z",
          "iopub.status.idle": "2021-04-07T00:03:15.440Z",
          "shell.execute_reply": "2021-04-07T00:03:15.503Z"
        }
      }
    },
    {
      "cell_type": "code",
      "source": [
        "console.time(\"groupBy sourceId and compute average trip time\")\n",
        "\n",
        "var averageTripTimesBySourceId = trips\n",
        "    .select(['sourceid', 'travel_time'])\n",
        "    .groupBy({ by: 'sourceid' })\n",
        "    .mean()\n",
        "    .sortValues({ sourceid: { ascending: true }})\n",
        "\n",
        "console.timeEnd(\"groupBy sourceId and compute average trip time\")\n",
        "\n",
        "console.log('number of unique trips:',\n",
        "    averageTripTimesBySourceId.numRows.toLocaleString())\n",
        "\n",
        "console.log(averageTripTimesBySourceId.toArrow().slice(0, 10).toArray())"
      ],
      "outputs": [],
      "execution_count": null,
      "metadata": {
        "collapsed": true,
        "jupyter": {
          "source_hidden": false,
          "outputs_hidden": false
        },
        "nteract": {
          "transient": {
            "deleting": false
          }
        },
        "execution": {
          "iopub.status.busy": "2021-04-07T00:03:15.450Z",
          "iopub.execute_input": "2021-04-07T00:03:15.454Z",
          "shell.execute_reply": "2021-04-07T00:03:15.506Z",
          "iopub.status.idle": "2021-04-07T00:03:15.471Z"
        }
      }
    },
    {
      "cell_type": "code",
      "source": [
        "var sourceTracts = tracts.gather(averageTripTimesBySourceId.get('sourceid'))\n",
        "\n",
        "console.log('number of source tracts:',\n",
        "    sourceTracts.numRows.toLocaleString())\n",
        "\n",
        "console.log(sourceTracts.toArrow().slice(0, 5).toArray())"
      ],
      "outputs": [],
      "execution_count": null,
      "metadata": {
        "collapsed": true,
        "jupyter": {
          "source_hidden": false,
          "outputs_hidden": false
        },
        "nteract": {
          "transient": {
            "deleting": false
          }
        },
        "execution": {
          "iopub.status.busy": "2021-04-07T00:03:15.477Z",
          "iopub.execute_input": "2021-04-07T00:03:15.482Z",
          "iopub.status.idle": "2021-04-07T00:03:15.497Z",
          "shell.execute_reply": "2021-04-07T00:03:15.508Z"
        }
      }
    },
    {
      "cell_type": "code",
      "source": [],
      "outputs": [],
      "execution_count": null,
      "metadata": {
        "collapsed": true,
        "jupyter": {
          "source_hidden": false,
          "outputs_hidden": false
        },
        "nteract": {
          "transient": {
            "deleting": false
          }
        }
      }
    }
  ],
  "metadata": {
    "kernel_info": {
      "name": "javascript"
    },
    "language_info": {
      "name": "javascript",
      "version": "16.13.0",
      "mimetype": "application/javascript",
      "file_extension": ".js"
    },
    "kernelspec": {
      "argv": [
        "ijskernel",
        "--hide-undefined",
        "{connection_file}",
        "--protocol=5.0"
      ],
      "display_name": "Javascript (Node.js)",
      "language": "javascript",
      "name": "javascript"
    },
    "nteract": {
      "version": "0.28.0"
    }
  },
  "nbformat": 4,
  "nbformat_minor": 0
}
