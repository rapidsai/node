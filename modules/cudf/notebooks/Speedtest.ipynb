{
  "cells": [
    {
      "cell_type": "code",
      "source": [
        "const cudf = require('@rapidsai/cudf');"
      ],
      "outputs": [],
      "execution_count": 1,
      "metadata": {
        "collapsed": true,
        "jupyter": {
          "source_hidden": false,
          "outputs_hidden": false
        },
        "nteract": {
          "transient": {
            "deleting": false
          }
        },
        "execution": {
          "iopub.status.busy": "2021-10-19T00:59:28.799Z",
          "iopub.execute_input": "2021-10-19T00:59:28.802Z",
          "shell.execute_reply": "2021-10-19T01:00:01.156Z",
          "iopub.status.idle": "2021-10-19T01:00:01.163Z"
        }
      }
    },
    {
      "cell_type": "code",
      "source": [
        "\n",
        "const regexps = [\n",
        "  /Cloud|Overcast/,\n",
        "  /Rain|T-Storm|Thunderstorm|Squalls|Drizzle/,\n",
        "  /Snow/,\n",
        "  /Fog/,\n",
        "  /Ice|Hail|Freezing|Sleet/,\n",
        "  /Dust|Smoke|Sand/,\n",
        "];\n",
        "\n",
        "console.log('');\n",
        "\n",
        "const weather_condition_gpu = cudf.DataFrame.readCSV({\n",
        "  header: 0,\n",
        "  sourceType: 'files',\n",
        "  sources: [`data/US_Accidents_Dec20.csv`],\n",
        "  dataTypes: {\n",
        "    id: 'str', source: 'str', tmc: 'float64', severity: 'int32', start_time: 'str', end_time: 'str',\n",
        "    start_lat: 'float64', start_lng: 'float64', end_lat: 'float64', end_lng: 'float64',\n",
        "    distance: 'float64', description: 'str', number: 'int32', street: 'str', side: 'str',\n",
        "    city: 'str', county: 'str', state: 'str', zipcode: 'str', country: 'str', timezone: 'str', airport_code: 'str',\n",
        "    weather_timestamp: 'str', temperature: 'float64', wind_chill: 'float64', humidity: 'float64', pressure: 'float64',\n",
        "    visibility: 'float64', wind_direction: 'str', wind_speed: 'float64', precipitation: 'float64', weather_condition: 'str',\n",
        "    amenity: 'bool', bump: 'bool', crossing: 'bool', give_way: 'bool', junction: 'bool', no_exit: 'bool', railway: 'bool',\n",
        "    roundabout: 'bool', station: 'bool', stop: 'bool', traffic_calming: 'bool', traffic_signal: 'bool', turning_loop: 'bool',\n",
        "    sunrise_sunset: 'str', civil_twilight: 'str', nautical_twighlight: 'str', astronomical_twighlight: 'str'\n",
        "  },\n",
        "}).get('weather_condition');\n",
        "\n",
        "console.time(`GPU time`);\n",
        "\n",
        "regexps.forEach((regexp) => {\n",
        "  console.time(`${regexp.source} time`);\n",
        "  const matches = weather_condition_gpu.containsRe(regexp.source).sum();\n",
        "  console.timeEnd(`${regexp.source} time`);\n",
        "  console.log(`${regexp.source} matches: ${matches.toLocaleString()}`);\n",
        "});\n",
        "\n",
        "console.timeEnd(`GPU time`);\n",
        "\n",
        "console.log('');\n",
        "\n",
        "const weather_condition_cpu = (() => {\n",
        "  const categorical = weather_condition_gpu.cast(new cudf.Categorical(new cudf.Utf8String));\n",
        "  const categories = [...categorical.categories];\n",
        "  const codes = [...categorical.codes];\n",
        "  return codes.map((i) => categories[i]);\n",
        "})();\n",
        "\n",
        "console.time(`CPU time`);\n",
        "\n",
        "regexps.forEach((regexp) => {\n",
        "  console.time(`${regexp.source} time`);\n",
        "  const matches = weather_condition_cpu.reduce((matches, weather_condition) => {\n",
        "    return matches + (regexp.exec(weather_condition) || []).length;\n",
        "  }, 0);\n",
        "  console.timeEnd(`${regexp.source} time`);\n",
        "  console.log(`${regexp.source} matches: ${matches.toLocaleString()}`);\n",
        "});\n",
        "\n",
        "console.timeEnd(`CPU time`);\n",
        "\n",
        "console.log('');"
      ],
      "outputs": [
        {
          "output_type": "stream",
          "name": "stdout",
          "text": [
            "\n"
          ]
        },
        {
          "output_type": "error",
          "ename": "Error",
          "evalue": "cuDF failure at: /opt/rapids/node/.cache/source/cudf/0f5c9e0eb240e5571bfbd25187e94a554506376c/cpp/include/cudf/utilities/type_dispatcher.hpp:502: Unsupported type_id.",
          "traceback": [
            "/opt/rapids/node/modules/cudf/build/js/data_frame.js:67",
            "        const { names, table } = table_1.Table.readCSV(options);",
            "                                               ^",
            "",
            "Error: cuDF failure at: /opt/rapids/node/.cache/source/cudf/0f5c9e0eb240e5571bfbd25187e94a554506376c/cpp/include/cudf/utilities/type_dispatcher.hpp:502: Unsupported type_id.",
            "    at Function.readCSV (/opt/rapids/node/modules/cudf/build/js/data_frame.js:67:48)",
            "    at evalmachine.<anonymous>:13:46",
            "    at Script.runInThisContext (node:vm:129:12)",
            "    at Object.runInThisContext (node:vm:305:38)",
            "    at run ([eval]:1054:15)",
            "    at onRunRequest ([eval]:888:18)",
            "    at onMessage ([eval]:848:13)",
            "    at process.emit (node:events:390:28)",
            "    at emit (node:internal/child_process:917:12)",
            "    at processTicksAndRejections (node:internal/process/task_queues:84:21)"
          ]
        }
      ],
      "execution_count": 2,
      "metadata": {
        "collapsed": true,
        "jupyter": {
          "source_hidden": false,
          "outputs_hidden": false
        },
        "nteract": {
          "transient": {
            "deleting": false
          }
        },
        "execution": {
          "iopub.status.busy": "2021-10-19T01:00:21.202Z",
          "iopub.execute_input": "2021-10-19T01:00:21.205Z",
          "iopub.status.idle": "2021-06-28T22:41:22.293Z",
          "shell.execute_reply": "2021-10-19T01:00:22.102Z"
        }
      }
    }
  ],
  "metadata": {
    "kernel_info": {
      "name": "javascript"
    },
    "language_info": {
      "name": "javascript",
      "version": "16.10.0",
      "mimetype": "application/javascript",
      "file_extension": ".js"
    },
    "kernelspec": {
      "argv": [
        "ijskernel",
        "--hide-undefined",
        "{connection_file}",
        "--protocol=5.1"
      ],
      "display_name": "Javascript (Node.js)",
      "language": "javascript",
      "name": "javascript"
    },
    "nteract": {
      "version": "0.28.0"
    }
  },
  "nbformat": 4,
  "nbformat_minor": 0
}