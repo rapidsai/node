{
  "cells": [
    {
      "cell_type": "code",
      "execution_count": 1,
      "metadata": {
        "nteract": {
          "transient": {
            "deleting": false
          }
        },
        "tags": []
      },
      "outputs": [],
      "source": [
        "if (!process.cwd().includes('modules/cudf/notebooks')) {\n",
        "    process.chdir('modules/cudf/notebooks');\n",
        "}"
      ]
    },
    {
      "cell_type": "code",
      "execution_count": 2,
      "metadata": {},
      "outputs": [],
      "source": [
        "var cudf = require('@rapidsai/cudf');\n",
        "\n",
        "var regexps = [\n",
        "  /Cloud|Overcast/,\n",
        "  /Rain|T-Storm|Thunderstorm|Squalls|Drizzle/,\n",
        "  /Snow/,\n",
        "  /Fog/,\n",
        "  /Ice|Hail|Freezing|Sleet/,\n",
        "  /Dust|Smoke|Sand/,\n",
        "];"
      ]
    },
    {
      "cell_type": "code",
      "execution_count": 3,
      "metadata": {},
      "outputs": [],
      "source": [
        "function readUSAccidentsCSV() {\n",
        "    const boolDtype    = new cudf.Bool8;\n",
        "    const int32Dtype   = new cudf.Int32;\n",
        "    const strDtype     = new cudf.Utf8String;\n",
        "    const float64Dtype = new cudf.Float64;\n",
        "    return cudf.DataFrame.readCSV({\n",
        "      header: 0,\n",
        "      sourceType: 'files',\n",
        "      sources: [`data/US_Accidents_Dec20.csv`],\n",
        "      dataTypes: {\n",
        "        id: strDtype,\n",
        "        source: strDtype,\n",
        "        tmc: float64Dtype,\n",
        "        severity: int32Dtype,\n",
        "        start_time: strDtype, end_time: strDtype,\n",
        "        start_lat: float64Dtype, start_lng: float64Dtype, end_lat: float64Dtype, end_lng: float64Dtype, distance: float64Dtype,\n",
        "        description: strDtype,\n",
        "        number: int32Dtype,\n",
        "        street: strDtype, side: strDtype, city: strDtype, county: strDtype, state: strDtype, zipcode: strDtype, country: strDtype, timezone: strDtype, airport_code: strDtype, weather_timestamp: strDtype,\n",
        "        temperature: float64Dtype, wind_chill: float64Dtype, humidity: float64Dtype, pressure: float64Dtype, visibility: float64Dtype, wind_direction: strDtype, wind_speed: float64Dtype, precipitation: float64Dtype,\n",
        "        weather_condition: strDtype,\n",
        "        amenity: boolDtype, bump: boolDtype, crossing: boolDtype, give_way: boolDtype, junction: boolDtype, no_exit: boolDtype, railway: boolDtype, roundabout: boolDtype, station: boolDtype, stop: boolDtype, traffic_calming: boolDtype, traffic_signal: boolDtype, turning_loop: boolDtype,\n",
        "        sunrise_sunset: strDtype, civil_twilight: strDtype, nautical_twighlight: strDtype, astronomical_twighlight: strDtype\n",
        "      },\n",
        "    })\n",
        "}"
      ]
    },
    {
      "cell_type": "code",
      "execution_count": 7,
      "metadata": {},
      "outputs": [
        {
          "name": "stdout",
          "output_type": "stream",
          "text": [
            "Cloud|Overcast time: 27.504ms\n",
            "Cloud|Overcast matches: 1,896,354\n",
            "\n",
            "Rain|T-Storm|Thunderstorm|Squalls|Drizzle time: 64.973ms\n",
            "Rain|T-Storm|Thunderstorm|Squalls|Drizzle matches: 326,441\n",
            "\n",
            "Snow time: 6.591ms\n",
            "Snow matches: 68,101\n",
            "\n",
            "Fog time: 6.441ms\n",
            "Fog matches: 52,063\n",
            "\n",
            "Ice|Hail|Freezing|Sleet time: 36.736ms\n",
            "Ice|Hail|Freezing|Sleet matches: 4,698\n",
            "\n",
            "Dust|Smoke|Sand time: 27.006ms\n",
            "Dust|Smoke|Sand matches: 8,846\n",
            "\n",
            "GPU time: 171.13ms\n"
          ]
        }
      ],
      "source": [
        "var weather_condition_gpu = readUSAccidentsCSV().get('weather_condition');\n",
        "\n",
        "console.time(`GPU time`);\n",
        "\n",
        "regexps.forEach((regexp) => {\n",
        "  console.time(`${regexp.source} time`);\n",
        "  const matches = weather_condition_gpu.containsRe(regexp.source).sum();\n",
        "  console.timeEnd(`${regexp.source} time`);\n",
        "  console.log(`${regexp.source} matches: ${matches.toLocaleString()}\\n`);\n",
        "});\n",
        "\n",
        "console.timeEnd(`GPU time`);"
      ]
    },
    {
      "cell_type": "code",
      "execution_count": 8,
      "metadata": {},
      "outputs": [
        {
          "name": "stdout",
          "output_type": "stream",
          "text": [
            "Cloud|Overcast time: 231.976ms\n",
            "Cloud|Overcast matches: 1,896,354\n",
            "\n",
            "Rain|T-Storm|Thunderstorm|Squalls|Drizzle time: 202.052ms\n",
            "Rain|T-Storm|Thunderstorm|Squalls|Drizzle matches: 326,441\n",
            "\n",
            "Snow time: 207.602ms\n",
            "Snow matches: 68,101\n",
            "\n",
            "Fog time: 216.786ms\n",
            "Fog matches: 52,063\n",
            "\n",
            "Ice|Hail|Freezing|Sleet time: 205.503ms\n",
            "Ice|Hail|Freezing|Sleet matches: 4,698\n",
            "\n",
            "Dust|Smoke|Sand time: 200.62ms\n",
            "Dust|Smoke|Sand matches: 8,846\n",
            "\n",
            "CPU time: 1.267s\n"
          ]
        }
      ],
      "source": [
        "var weather_condition_cpu = (() => {\n",
        "  const categorical = weather_condition_gpu.cast(new cudf.Categorical(new cudf.Utf8String));\n",
        "  const categories = [...categorical.categories];\n",
        "  const codes = [...categorical.codes];\n",
        "  return codes.map((i) => categories[i]);\n",
        "})();\n",
        "\n",
        "console.time(`CPU time`);\n",
        "\n",
        "regexps.forEach((regexp) => {\n",
        "  console.time(`${regexp.source} time`);\n",
        "  const matches = weather_condition_cpu.reduce((matches, weather_condition) => {\n",
        "    return matches + (regexp.exec(weather_condition) || []).length;\n",
        "  }, 0);\n",
        "  console.timeEnd(`${regexp.source} time`);\n",
        "  console.log(`${regexp.source} matches: ${matches.toLocaleString()}\\n`);\n",
        "});\n",
        "\n",
        "console.timeEnd(`CPU time`);"
      ]
    },
    {
      "cell_type": "code",
      "execution_count": null,
      "metadata": {},
      "outputs": [],
      "source": []
    }
  ],
  "metadata": {
    "kernel_info": {
      "name": "javascript"
    },
    "kernelspec": {
      "display_name": "Javascript (Node.js)",
      "language": "javascript",
      "name": "javascript"
    },
    "language_info": {
      "file_extension": ".js",
      "mimetype": "application/javascript",
      "name": "javascript",
      "version": "16.15.1"
    },
    "nteract": {
      "version": "0.28.0"
    }
  },
  "nbformat": 4,
  "nbformat_minor": 4
}
