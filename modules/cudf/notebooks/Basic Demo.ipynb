{
  "cells": [
    {
      "cell_type": "markdown",
      "source": [
        "## Simple ETL / Exploration with node-rapids\n",
        "\n",
        "This notebook will demonstrate how basic APIs from `node-rapids` ([GitHub](https://github.com/rapidsai/node-rapids), [docs](https://rapidsai.github.io/node-rapids/)) may be used to load and process data from the GPU in Node.\n",
        "\n",
        "First, we load the cudf module from `node-rapids`:"
      ],
      "metadata": {
        "nteract": {
          "transient": {
            "deleting": false
          }
        }
      }
    },
    {
      "cell_type": "code",
      "source": [
        "cudf = require(\"@rapidsai/cudf\")"
      ],
      "outputs": [],
      "execution_count": null,
      "metadata": {
        "collapsed": true,
        "jupyter": {
          "source_hidden": false,
          "outputs_hidden": false
        },
        "nteract": {
          "transient": {
            "deleting": false
          }
        },
        "execution": {
          "iopub.status.busy": "2021-10-13T18:44:38.524Z",
          "iopub.execute_input": "2021-10-13T18:44:38.541Z",
          "iopub.status.idle": "2021-10-13T18:44:38.765Z",
          "shell.execute_reply": "2021-10-13T18:44:38.733Z"
        }
      }
    },
    {
      "cell_type": "markdown",
      "source": [
        "We are going to look at the 1.5 Gb [US Accidents (Dec 20) dataset from Kaggle](https://www.kaggle.com/sobhanmoosavi/us-accidents?select=US_Accidents_Dec20.csv). First we need to define load the CSV using `readCSV`:"
      ],
      "metadata": {
        "nteract": {
          "transient": {
            "deleting": false
          }
        }
      }
    },
    {
      "cell_type": "code",
      "source": [
        "console.time(\"readCSV\")\n",
        "df = cudf.DataFrame.readCSV({\n",
        "    header: 0,\n",
        "    sourceType: 'files',\n",
        "    sources: [\"data/US_Accidents_Dec20.csv\"]\n",
        "});\n",
        "console.timeEnd(\"readCSV\")"
      ],
      "outputs": [],
      "execution_count": null,
      "metadata": {
        "collapsed": true,
        "jupyter": {
          "source_hidden": false,
          "outputs_hidden": false
        },
        "nteract": {
          "transient": {
            "deleting": false
          }
        },
        "execution": {
          "iopub.status.busy": "2021-10-13T18:44:38.788Z",
          "iopub.execute_input": "2021-10-13T18:44:38.801Z",
          "iopub.status.idle": "2021-10-13T18:44:41.899Z",
          "shell.execute_reply": "2021-10-13T18:44:42.026Z"
        }
      }
    },
    {
      "cell_type": "markdown",
      "source": [
        "Now that we have loaded the CSV into a GPU DataFrame `df` we can look at some basic information like number of rows and columns:"
      ],
      "metadata": {
        "nteract": {
          "transient": {
            "deleting": false
          }
        }
      }
    },
    {
      "cell_type": "code",
      "source": [
        "console.log(\"Number of rows:\", df.numRows)\n",
        "console.log(\"Number of cols:\", df.numColumns)"
      ],
      "outputs": [],
      "execution_count": null,
      "metadata": {
        "collapsed": true,
        "jupyter": {
          "source_hidden": false,
          "outputs_hidden": false
        },
        "nteract": {
          "transient": {
            "deleting": false
          }
        },
        "execution": {
          "iopub.status.busy": "2021-10-13T18:44:41.917Z",
          "iopub.execute_input": "2021-10-13T18:44:41.929Z",
          "iopub.status.idle": "2021-10-13T18:44:41.963Z",
          "shell.execute_reply": "2021-10-13T18:44:42.036Z"
        }
      }
    },
    {
      "cell_type": "markdown",
      "source": [
        "We can also take a quick look at the top of the dataframe:"
      ],
      "metadata": {
        "nteract": {
          "transient": {
            "deleting": false
          }
        }
      }
    },
    {
      "cell_type": "code",
      "source": [
        "console.log(df.head().toString({maxColumns: 0}))"
      ],
      "outputs": [],
      "execution_count": null,
      "metadata": {
        "collapsed": true,
        "jupyter": {
          "source_hidden": false,
          "outputs_hidden": false
        },
        "nteract": {
          "transient": {
            "deleting": false
          }
        },
        "execution": {
          "iopub.status.busy": "2021-10-13T18:44:41.980Z",
          "iopub.execute_input": "2021-10-13T18:44:41.992Z",
          "iopub.status.idle": "2021-10-13T18:44:42.257Z",
          "shell.execute_reply": "2021-10-13T18:44:42.264Z"
        }
      }
    },
    {
      "cell_type": "markdown",
      "source": [
        "We can see this data set has lots of columns we don't really care about. We can pare things down using the `Datafame.drop` method:"
      ],
      "metadata": {
        "nteract": {
          "transient": {
            "deleting": false
          }
        }
      }
    },
    {
      "cell_type": "code",
      "source": [
        "df = df.drop([\n",
        "    'Civil_Twilight', 'Nautical_Twilight', 'Astronomical_Twilight', 'Wind_Speed(mph)', 'Wind_Direction', 'Wind_Chill', 'Humidity(50)', 'Sunrise_Sunset',\n",
        "    'Pressure', 'Amenity', 'Bump', 'Give_Way', 'No_Exit', 'Railway', 'Roundabout', 'Station', 'Traffic_Calming', 'Turning_Loop', 'Timezone', 'Crossing', 'Stop', 'Traffic_Signal', 'Junction', 'Number', 'Side', 'County',\n",
        "    'Airport_Code', 'TMC', 'Start_Time', 'End_Time', 'Start_Lat', 'Start_Lng', 'End_Lat', 'End_Lng', 'Street', 'Country', 'Zipcode', 'Distance(mi)', 'Wind_Chill(F)', 'Pressure(in)', 'Humidity(%)']\n",
        ")"
      ],
      "outputs": [],
      "execution_count": null,
      "metadata": {
        "collapsed": true,
        "jupyter": {
          "source_hidden": false,
          "outputs_hidden": true
        },
        "nteract": {
          "transient": {
            "deleting": false
          }
        },
        "execution": {
          "iopub.status.busy": "2021-10-13T18:40:32.137Z",
          "iopub.execute_input": "2021-10-13T18:40:32.145Z",
          "iopub.status.idle": "2021-10-13T18:40:32.161Z",
          "shell.execute_reply": "2021-10-13T18:40:32.167Z"
        }
      }
    },
    {
      "cell_type": "code",
      "source": [
        "df.names"
      ],
      "outputs": [],
      "execution_count": null,
      "metadata": {
        "collapsed": true,
        "jupyter": {
          "source_hidden": false,
          "outputs_hidden": false
        },
        "nteract": {
          "transient": {
            "deleting": false
          }
        },
        "execution": {
          "iopub.status.busy": "2021-10-13T18:40:32.741Z",
          "iopub.execute_input": "2021-10-13T18:40:32.748Z",
          "iopub.status.idle": "2021-10-13T18:40:32.773Z",
          "shell.execute_reply": "2021-10-13T18:40:32.780Z"
        }
      }
    },
    {
      "cell_type": "code",
      "source": [
        "temp = df.get('Temperature(F)')\n",
        "console.log(\"Min temp:\", temp.min())\n",
        "console.log(\"Max temp:\", temp.max())"
      ],
      "outputs": [],
      "execution_count": null,
      "metadata": {
        "collapsed": true,
        "jupyter": {
          "source_hidden": false,
          "outputs_hidden": false
        },
        "nteract": {
          "transient": {
            "deleting": false
          }
        },
        "execution": {
          "iopub.status.busy": "2021-10-13T18:40:35.604Z",
          "iopub.execute_input": "2021-10-13T18:40:35.618Z",
          "iopub.status.idle": "2021-10-13T18:40:35.651Z",
          "shell.execute_reply": "2021-10-13T18:40:35.663Z"
        }
      }
    },
    {
      "cell_type": "markdown",
      "source": [
        "Some of the temperature values are clearly bad data, let's restrict the datafame to a more reasonable range. The `lt` and `gt` unary operators return a boolean mask where values are less or greater than ven values, respectively. These masks can be combined with the `logical_or` operator and then passed to `DataFrame.gather` to restrict to only the valid rows we care about:"
      ],
      "metadata": {
        "nteract": {
          "transient": {
            "deleting": false
          }
        }
      }
    },
    {
      "cell_type": "code",
      "source": [
        "temp = df.get('Temperature(F)')\n",
        "\n",
        "console.time(\"filter\")\n",
        "valid_temps = temp.lt(120).logicalAnd(temp.gt(-30))\n",
        "df = df.filter(valid_temps)\n",
        "console.timeEnd(\"filter\")"
      ],
      "outputs": [],
      "execution_count": null,
      "metadata": {
        "collapsed": true,
        "jupyter": {
          "source_hidden": false,
          "outputs_hidden": false
        },
        "nteract": {
          "transient": {
            "deleting": false
          }
        },
        "execution": {
          "iopub.status.busy": "2021-10-13T18:40:36.765Z",
          "iopub.execute_input": "2021-10-13T18:40:36.777Z",
          "shell.execute_reply": "2021-10-13T18:40:37.807Z",
          "iopub.status.idle": "2021-10-13T18:40:37.794Z"
        }
      }
    },
    {
      "cell_type": "markdown",
      "source": [
        "We can see above how long filtering the full 1.5 Gb data set took. Below we can verify that that filtered data only has values in the specified range:"
      ],
      "metadata": {
        "nteract": {
          "transient": {
            "deleting": false
          }
        }
      }
    },
    {
      "cell_type": "code",
      "source": [
        "temp = df.get('Temperature(F)')\n",
        "\n",
        "console.log(\"New number of rows:\", df.numRows)\n",
        "console.log(\"New min temp:\", temp.min())\n",
        "console.log(\"New max temp:\", temp.max())"
      ],
      "outputs": [],
      "execution_count": null,
      "metadata": {
        "collapsed": true,
        "jupyter": {
          "source_hidden": false,
          "outputs_hidden": false
        },
        "nteract": {
          "transient": {
            "deleting": false
          }
        },
        "execution": {
          "iopub.status.busy": "2021-10-13T18:40:37.933Z",
          "iopub.execute_input": "2021-10-13T18:40:37.945Z",
          "iopub.status.idle": "2021-10-13T18:40:37.979Z",
          "shell.execute_reply": "2021-10-13T18:40:37.986Z"
        }
      }
    },
    {
      "cell_type": "markdown",
      "source": [
        "Another thing we might want to examine is the grouping of weather conditions. The original dataframe has very fine-grained weather conditions. e.g \"Fog\" vd \"Shallow Fog\", as seen below:"
      ],
      "metadata": {
        "nteract": {
          "transient": {
            "deleting": false
          }
        }
      }
    },
    {
      "cell_type": "code",
      "source": [
        "weather_groups = df.groupBy({by: \"Weather_Condition\"})\n",
        "JSON.stringify(weather_groups.nth(0).get(\"Weather_Condition\").toArrow().toArray())"
      ],
      "outputs": [],
      "execution_count": null,
      "metadata": {
        "collapsed": true,
        "jupyter": {
          "source_hidden": false,
          "outputs_hidden": false
        },
        "nteract": {
          "transient": {
            "deleting": false
          }
        },
        "execution": {
          "iopub.status.busy": "2021-10-13T18:40:39.089Z",
          "iopub.execute_input": "2021-10-13T18:40:39.096Z",
          "iopub.status.idle": "2021-10-13T18:40:39.188Z",
          "shell.execute_reply": "2021-10-13T18:40:39.162Z"
        }
      }
    },
    {
      "cell_type": "markdown",
      "source": [
        "Let's use Cudf's GPU regex functions to get some quick counts of more generic weather categories. The `Series.containsRe` method will return a boolean mask that is true wherever the series value matches the regex:"
      ],
      "metadata": {
        "nteract": {
          "transient": {
            "deleting": false
          }
        }
      }
    },
    {
      "cell_type": "code",
      "source": [
        "weather = df.get(\"Weather_Condition\")\n",
        "\n",
        "console.time(\"regex\")\n",
        "clouds_mask = weather.containsRe(\"Cloud|Overcast\");\n",
        "rain_mask = weather.containsRe(\"Rain|T-Storm|Thunderstorm|Squalls|Drizzle\");\n",
        "snow_mask = weather.containsRe(\"Snow\")\n",
        "fog_mask = weather.containsRe(\"Fog\")\n",
        "ice_mask = weather.containsRe(\"Ice|Hail|Freezing|Sleet\")\n",
        "particulate_mask = weather.containsRe(\"Dust|Smoke|Sand\")\n",
        "console.timeEnd(\"regex\")"
      ],
      "outputs": [],
      "execution_count": null,
      "metadata": {
        "collapsed": true,
        "jupyter": {
          "source_hidden": false,
          "outputs_hidden": false
        },
        "nteract": {
          "transient": {
            "deleting": false
          }
        },
        "execution": {
          "iopub.status.busy": "2021-10-13T18:40:41.061Z",
          "iopub.execute_input": "2021-10-13T18:40:41.069Z",
          "iopub.status.idle": "2021-10-13T18:40:41.203Z",
          "shell.execute_reply": "2021-10-13T18:40:41.229Z"
        }
      }
    },
    {
      "cell_type": "markdown",
      "source": [
        "The categorization above is not necessarily exlcusive, and categories may overlap, but we can see how many accidents had a category involved by summing each mask:"
      ],
      "metadata": {
        "nteract": {
          "transient": {
            "deleting": false
          }
        }
      }
    },
    {
      "cell_type": "code",
      "source": [
        "console.time(\"sum\")\n",
        "console.log(\"Severity with clouds     :\", clouds_mask.sum())\n",
        "console.log(\"Severity with rain       :\", rain_mask.sum())\n",
        "console.log(\"Severity with snow       :\", snow_mask.sum())\n",
        "console.log(\"Severity with fog        :\", fog_mask.sum())\n",
        "console.log(\"Severity with particulate:\", particulate_mask.sum())\n",
        "console.log(\"Severity with ice        :\", ice_mask.sum())\n",
        "console.timeEnd(\"sum\")"
      ],
      "outputs": [],
      "execution_count": null,
      "metadata": {
        "collapsed": true,
        "jupyter": {
          "source_hidden": false,
          "outputs_hidden": false
        },
        "nteract": {
          "transient": {
            "deleting": false
          }
        },
        "execution": {
          "iopub.status.busy": "2021-10-13T18:40:42.399Z",
          "iopub.execute_input": "2021-10-13T18:40:42.411Z",
          "iopub.status.idle": "2021-10-13T18:40:42.482Z",
          "shell.execute_reply": "2021-10-13T18:40:42.490Z"
        }
      }
    },
    {
      "cell_type": "markdown",
      "source": [
        "We might be interested to look filter by these subsets to see the average severity when each category is involved:"
      ],
      "metadata": {
        "nteract": {
          "transient": {
            "deleting": false
          }
        }
      }
    },
    {
      "cell_type": "code",
      "source": [
        "console.time(\"means\")\n",
        "console.log(\"Severity with clouds     :\", df.filter(clouds_mask).get(\"Severity\").mean())\n",
        "console.log(\"Severity with rain       :\", df.filter(rain_mask).get(\"Severity\").mean())\n",
        "console.log(\"Severity with snow       :\", df.filter(snow_mask).get(\"Severity\").mean())\n",
        "console.log(\"Severity with fog        :\", df.filter(fog_mask).get(\"Severity\").mean())\n",
        "console.log(\"Severity with particulate:\", df.filter(particulate_mask).get(\"Severity\").mean())\n",
        "console.log(\"Severity with ice        :\", df.filter(ice_mask).get(\"Severity\").mean())\n",
        "console.timeEnd(\"means\")\n"
      ],
      "outputs": [],
      "execution_count": null,
      "metadata": {
        "collapsed": true,
        "jupyter": {
          "source_hidden": false,
          "outputs_hidden": false
        },
        "nteract": {
          "transient": {
            "deleting": false
          }
        },
        "execution": {
          "iopub.status.busy": "2021-10-13T18:40:43.898Z",
          "iopub.execute_input": "2021-10-13T18:40:43.906Z",
          "iopub.status.idle": "2021-10-13T18:40:43.954Z",
          "shell.execute_reply": "2021-10-13T18:40:43.968Z"
        }
      }
    },
    {
      "cell_type": "markdown",
      "source": [
        "Unsurprisingly, the most severe accidents were recorded in ice and snow conditions.\n",
        "\n",
        "Hopefully this has been a helpful introduction to Cudf in node-rapids! For more information [see the documentation](https://rapidsai.github.io/node-rapids/)."
      ],
      "metadata": {
        "nteract": {
          "transient": {
            "deleting": false
          }
        }
      }
    },
    {
      "cell_type": "markdown",
      "source": [],
      "metadata": {
        "nteract": {
          "transient": {
            "deleting": false
          }
        }
      }
    },
    {
      "cell_type": "markdown",
      "source": [],
      "metadata": {
        "nteract": {
          "transient": {
            "deleting": false
          }
        }
      }
    }
  ],
  "metadata": {
    "kernel_info": {
      "name": "javascript"
    },
    "language_info": {
      "name": "javascript",
      "version": "16.13.0",
      "mimetype": "application/javascript",
      "file_extension": ".js"
    },
    "kernelspec": {
      "argv": [
        "ijskernel",
        "--hide-undefined",
        "{connection_file}",
        "--protocol=5.0"
      ],
      "display_name": "Javascript (Node.js)",
      "language": "javascript",
      "name": "javascript"
    },
    "nteract": {
      "version": "0.28.0"
    }
  },
  "nbformat": 4,
  "nbformat_minor": 0
}
