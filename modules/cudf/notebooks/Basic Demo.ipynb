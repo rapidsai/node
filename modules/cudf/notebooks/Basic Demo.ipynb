{
  "cells": [
    {
      "cell_type": "markdown",
      "source": [
        "## Simple ETL / Exploration with node-rapids\n",
        "\n",
        "This notebook will demonstrate how basic APIs from `node-rapids` ([GitHub](https://github.com/rapidsai/node-rapids), [docs](https://rapidsai.github.io/node-rapids/)) may be used to load and process data from the GPU in Node.\n",
        "\n",
        "First, we load the cudf module from `node-rapids`:"
      ],
      "metadata": {
        "nteract": {
          "transient": {
            "deleting": false
          }
        }
      }
    },
    {
      "cell_type": "code",
      "source": [
        "cudf = require(\"@rapidsai/cudf\");"
      ],
      "outputs": [
        {
          "output_type": "execute_result",
          "execution_count": 1,
          "data": {
            "text/plain": "{\n  Column: [Function: Column],\n  DataFrame: [class DataFrame],\n  GroupByMultiple: [class GroupByMultiple extends GroupByBase],\n  GroupBySingle: [class GroupBySingle extends GroupByBase],\n  AbstractSeries: [class AbstractSeries],\n  Series: [class AbstractSeries],\n  Bool8Series: [class Bool8Series extends NumericSeries],\n  Float32Series: [class Float32Series extends FloatSeries],\n  Float64Series: [class Float64Series extends FloatSeries],\n  Int8Series: [class Int8Series extends IntSeries],\n  Int16Series: [class Int16Series extends IntSeries],\n  Int32Series: [class Int32Series extends IntSeries],\n  Uint8Series: [class Uint8Series extends IntSeries],\n  Uint16Series: [class Uint16Series extends IntSeries],\n  Uint32Series: [class Uint32Series extends IntSeries],\n  Int64Series: [class Int64Series extends IntSeries],\n  Uint64Series: [class Uint64Series extends IntSeries],\n  StringSeries: [class StringSeries extends AbstractSeries],\n  ListSeries: [class ListSeries extends AbstractSeries],\n  StructSeries: [class StructSeries extends AbstractSeries],\n  Table: [Function: Table],\n  NullOrder: { '0': 'AFTER', '1': 'BEFORE', AFTER: 0, BEFORE: 1 },\n  ReplacePolicy: { '0': 'PRECEDING', '1': 'FOLLOWING', PRECEDING: 0, FOLLOWING: 1 },\n  Int8: [class Int8 [Int] extends Int8],\n  Int16: [class Int16 [Int] extends Int16],\n  Int32: [class Int32 [Int] extends Int32],\n  Int64: [class Int64 [Int] extends Int64],\n  Uint8: [class Uint8 [Int] extends Uint8],\n  Uint16: [class Uint16 [Int] extends Uint16],\n  Uint32: [class Uint32 [Int] extends Uint32],\n  Uint64: [class Uint64 [Int] extends Uint64],\n  Float32: [class Float32 [Float] extends Float32],\n  Float64: [class Float64 [Float] extends Float64],\n  Bool8: [class Bool8 [Bool] extends Bool],\n  Utf8String: [class Utf8String [Utf8] extends Utf8],\n  List: [class List [List] extends List],\n  Struct: [class Struct [Struct] extends Struct],\n  Interpolation: {\n    '0': 'linear',\n    '1': 'lower',\n    '2': 'higher',\n    '3': 'midpoint',\n    '4': 'nearest',\n    linear: 0,\n    lower: 1,\n    higher: 2,\n    midpoint: 3,\n    nearest: 4\n  },\n  arrowToCUDFType: [Function: arrowToCUDFType]\n}"
          },
          "metadata": {}
        }
      ],
      "execution_count": 1,
      "metadata": {
        "collapsed": true,
        "jupyter": {
          "source_hidden": false,
          "outputs_hidden": true
        },
        "nteract": {
          "transient": {
            "deleting": false
          }
        },
        "execution": {
          "iopub.status.busy": "2021-03-24T18:45:37.391Z",
          "iopub.execute_input": "2021-03-24T18:45:37.399Z",
          "iopub.status.idle": "2021-03-24T18:45:37.589Z",
          "shell.execute_reply": "2021-03-24T18:45:37.570Z"
        }
      }
    },
    {
      "cell_type": "markdown",
      "source": [
        "We are going to look at the 1.5 Gb [US Accidents (Dec 20) dataset from Kaggle](https://www.kaggle.com/sobhanmoosavi/us-accidents?select=US_Accidents_Dec20.csv). First we need to define the columns and associated datatypes for this table:"
      ],
      "metadata": {
        "nteract": {
          "transient": {
            "deleting": false
          }
        }
      }
    },
    {
      "cell_type": "code",
      "source": [
        "columns =  {\n",
        "    id: 'str', source: 'str', tmc: 'float64', severity: 'int32', start_time: 'str', end_time: 'str',\n",
        "    start_lat: 'float64', start_lng: 'float64', end_lat: 'float64', end_lng: 'float64',\n",
        "    distance: 'float64', description: 'str', number: 'int32', street: 'str', side: 'str',\n",
        "    city: 'str', county: 'str', state: 'str', zipcode: 'str', country: 'str', timezone: 'str', airport_code: 'str', \n",
        "    weather_timestamp: 'str', temperature: 'float64', wind_chill: 'float64', humidity: 'float64', pressure: 'float64', \n",
        "    visibility: 'float64', wind_direction: 'str', wind_speed: 'float64', precipitation: 'float64', weather_condition: 'str', \n",
        "    amenity: 'bool', bump: 'bool', crossing: 'bool', give_way: 'bool', junction: 'bool', no_exit: 'bool', railway: 'bool', \n",
        "    roundabout: 'bool', station: 'bool', stop: 'bool', traffic_calming: 'bool', traffic_signal: 'bool', turning_loop: 'bool', \n",
        "    sunrise_sunset: 'str', civil_twilight: 'str', nautical_twighlight: 'str', astronomical_twighlight: 'str'\n",
        "}"
      ],
      "outputs": [
        {
          "output_type": "execute_result",
          "execution_count": 2,
          "data": {
            "text/plain": "{\n  id: 'str',\n  source: 'str',\n  tmc: 'float64',\n  severity: 'int32',\n  start_time: 'str',\n  end_time: 'str',\n  start_lat: 'float64',\n  start_lng: 'float64',\n  end_lat: 'float64',\n  end_lng: 'float64',\n  distance: 'float64',\n  description: 'str',\n  number: 'int32',\n  street: 'str',\n  side: 'str',\n  city: 'str',\n  county: 'str',\n  state: 'str',\n  zipcode: 'str',\n  country: 'str',\n  timezone: 'str',\n  airport_code: 'str',\n  weather_timestamp: 'str',\n  temperature: 'float64',\n  wind_chill: 'float64',\n  humidity: 'float64',\n  pressure: 'float64',\n  visibility: 'float64',\n  wind_direction: 'str',\n  wind_speed: 'float64',\n  precipitation: 'float64',\n  weather_condition: 'str',\n  amenity: 'bool',\n  bump: 'bool',\n  crossing: 'bool',\n  give_way: 'bool',\n  junction: 'bool',\n  no_exit: 'bool',\n  railway: 'bool',\n  roundabout: 'bool',\n  station: 'bool',\n  stop: 'bool',\n  traffic_calming: 'bool',\n  traffic_signal: 'bool',\n  turning_loop: 'bool',\n  sunrise_sunset: 'str',\n  civil_twilight: 'str',\n  nautical_twighlight: 'str',\n  astronomical_twighlight: 'str'\n}"
          },
          "metadata": {}
        }
      ],
      "execution_count": 2,
      "metadata": {
        "collapsed": true,
        "jupyter": {
          "source_hidden": false,
          "outputs_hidden": true
        },
        "nteract": {
          "transient": {
            "deleting": false
          }
        },
        "execution": {
          "iopub.status.busy": "2021-03-24T18:45:38.666Z",
          "iopub.execute_input": "2021-03-24T18:45:38.679Z",
          "iopub.status.idle": "2021-03-24T18:45:38.698Z",
          "shell.execute_reply": "2021-03-24T18:45:38.712Z"
        }
      }
    },
    {
      "cell_type": "code",
      "source": [
        "console.time(\"readCSV\")\n",
        "df = cudf.DataFrame.readCSV({\n",
        "    header: 0,\n",
        "    sourceType: 'files',\n",
        "    sources: [\"data/US_Accidents_Dec20.csv\"],\n",
        "    dataTypes: columns,\n",
        "});\n",
        "console.timeEnd(\"readCSV\")"
      ],
      "outputs": [
        {
          "output_type": "stream",
          "name": "stdout",
          "text": [
            "readCSV: 2.071s\n"
          ]
        }
      ],
      "execution_count": 3,
      "metadata": {
        "collapsed": true,
        "jupyter": {
          "source_hidden": false,
          "outputs_hidden": false
        },
        "nteract": {
          "transient": {
            "deleting": false
          }
        },
        "execution": {
          "iopub.status.busy": "2021-03-24T18:45:39.022Z",
          "iopub.execute_input": "2021-03-24T18:45:39.029Z",
          "iopub.status.idle": "2021-03-24T18:45:41.084Z",
          "shell.execute_reply": "2021-03-24T18:45:41.102Z"
        }
      }
    },
    {
      "cell_type": "markdown",
      "source": [
        "Now that we have loaded the CSV into a GPU DataFrame `df` we can look at some basic information like number of rows and columns:"
      ],
      "metadata": {
        "nteract": {
          "transient": {
            "deleting": false
          }
        }
      }
    },
    {
      "cell_type": "code",
      "source": [
        "console.log(\"Number of rows:\", df.numRows)\n",
        "console.log(\"Number of cols:\", df.numColumns)"
      ],
      "outputs": [
        {
          "output_type": "stream",
          "name": "stdout",
          "text": [
            "Number of rows: 4232541\n",
            "Number of cols: 49\n"
          ]
        }
      ],
      "execution_count": 4,
      "metadata": {
        "collapsed": true,
        "jupyter": {
          "source_hidden": false,
          "outputs_hidden": false
        },
        "nteract": {
          "transient": {
            "deleting": false
          }
        },
        "execution": {
          "iopub.status.busy": "2021-03-24T18:45:43.741Z",
          "iopub.execute_input": "2021-03-24T18:45:43.750Z",
          "iopub.status.idle": "2021-03-24T18:45:43.838Z",
          "shell.execute_reply": "2021-03-24T18:45:43.848Z"
        }
      }
    },
    {
      "cell_type": "markdown",
      "source": [
        "This data set has lots of columns we don't really care about. We can pare things down using the `Datafame.drop` method:"
      ],
      "metadata": {
        "nteract": {
          "transient": {
            "deleting": false
          }
        }
      }
    },
    {
      "cell_type": "code",
      "source": [
        "df = df.drop([\n",
        "    'civil_twilight', 'nautical_twighlight', 'astronomical_twighlight', 'wind_speed', 'wind_direction', 'wind_chill', 'humidity', \n",
        "    'pressure', 'amenity', 'bump', 'give_way', 'no_exit', 'railway', 'roundabout', 'station', 'traffic_calming', 'turning_loop', 'timezone', \n",
        "    'airport_code', 'tmc', 'start_time', 'end_time', 'start_lat', 'start_lng', 'end_lat', 'end_lng', 'street', 'country', 'distance']\n",
        ")"
      ],
      "outputs": [
        {
          "output_type": "execute_result",
          "execution_count": 5,
          "data": {
            "text/plain": "DataFrame {\n  _accessor: ColumnAccessor {\n    _labels_to_indices: Map(20) {\n      'id' => 0,\n      'source' => 1,\n      'severity' => 2,\n      'description' => 3,\n      'number' => 4,\n      'side' => 5,\n      'city' => 6,\n      'county' => 7,\n      'state' => 8,\n      'zipcode' => 9,\n      'weather_timestamp' => 10,\n      'temperature' => 11,\n      'visibility' => 12,\n      'precipitation' => 13,\n      'weather_condition' => 14,\n      'crossing' => 15,\n      'junction' => 16,\n      'stop' => 17,\n      'traffic_signal' => 18,\n      'sunrise_sunset' => 19\n    },\n    _data: {\n      id: Column {},\n      source: Column {},\n      severity: Column {},\n      description: Column {},\n      number: Column {},\n      side: Column {},\n      city: Column {},\n      county: Column {},\n      state: Column {},\n      zipcode: Column {},\n      weather_timestamp: Column {},\n      temperature: Column {},\n      visibility: Column {},\n      precipitation: Column {},\n      weather_condition: Column {},\n      crossing: Column {},\n      junction: Column {},\n      stop: Column {},\n      traffic_signal: Column {},\n      sunrise_sunset: Column {}\n    }\n  }\n}"
          },
          "metadata": {}
        }
      ],
      "execution_count": 5,
      "metadata": {
        "collapsed": true,
        "jupyter": {
          "source_hidden": false,
          "outputs_hidden": true
        },
        "nteract": {
          "transient": {
            "deleting": false
          }
        },
        "execution": {
          "iopub.status.busy": "2021-03-24T18:45:46.394Z",
          "iopub.execute_input": "2021-03-24T18:45:46.401Z",
          "iopub.status.idle": "2021-03-24T18:45:46.421Z",
          "shell.execute_reply": "2021-03-24T18:45:46.428Z"
        }
      }
    },
    {
      "cell_type": "code",
      "source": [
        "df.names"
      ],
      "outputs": [
        {
          "output_type": "execute_result",
          "execution_count": 6,
          "data": {
            "text/plain": "[\n  'id',                'source',\n  'severity',          'description',\n  'number',            'side',\n  'city',              'county',\n  'state',             'zipcode',\n  'weather_timestamp', 'temperature',\n  'visibility',        'precipitation',\n  'weather_condition', 'crossing',\n  'junction',          'stop',\n  'traffic_signal',    'sunrise_sunset'\n]"
          },
          "metadata": {}
        }
      ],
      "execution_count": 6,
      "metadata": {
        "collapsed": true,
        "jupyter": {
          "source_hidden": false,
          "outputs_hidden": false
        },
        "nteract": {
          "transient": {
            "deleting": false
          }
        },
        "execution": {
          "iopub.status.busy": "2021-03-24T18:45:47.225Z",
          "iopub.execute_input": "2021-03-24T18:45:47.232Z",
          "iopub.status.idle": "2021-03-24T18:45:47.247Z",
          "shell.execute_reply": "2021-03-24T18:45:47.253Z"
        }
      }
    },
    {
      "cell_type": "code",
      "source": [
        "temp = df.get('temperature')\n",
        "console.log(\"Min temp:\", temp.min())\n",
        "console.log(\"Max temp:\", temp.max())"
      ],
      "outputs": [
        {
          "output_type": "stream",
          "name": "stdout",
          "text": [
            "Min temp: -89\n",
            "Max temp: 203\n"
          ]
        }
      ],
      "execution_count": 7,
      "metadata": {
        "collapsed": true,
        "jupyter": {
          "source_hidden": false,
          "outputs_hidden": false
        },
        "nteract": {
          "transient": {
            "deleting": false
          }
        },
        "execution": {
          "iopub.status.busy": "2021-03-24T18:45:49.587Z",
          "iopub.execute_input": "2021-03-24T18:45:49.594Z",
          "iopub.status.idle": "2021-03-24T18:45:49.612Z",
          "shell.execute_reply": "2021-03-24T18:45:49.618Z"
        }
      }
    },
    {
      "cell_type": "markdown",
      "source": [
        "Some of the temperature values are clearly bad data, let's restrict the datafame to a more reasonable range. The `lt` and `gt` unary operators return a boolean mask where values are less or greater than ven values, respectively. These masks can be combined with the `logical_or` operator and then passed to `DataFrame.gather` to restrict to only the valid rows we care about:"
      ],
      "metadata": {
        "nteract": {
          "transient": {
            "deleting": false
          }
        }
      }
    },
    {
      "cell_type": "code",
      "source": [
        "temp = df.get('temperature')\n",
        "\n",
        "console.time(\"filter\")\n",
        "valid_temps = temp.lt(120).logical_and(temp.gt(-30))\n",
        "df = df.filter(valid_temps)\n",
        "console.timeEnd(\"filter\")"
      ],
      "outputs": [
        {
          "output_type": "stream",
          "name": "stdout",
          "text": [
            "filter: 156.711ms\n"
          ]
        }
      ],
      "execution_count": 8,
      "metadata": {
        "collapsed": true,
        "jupyter": {
          "source_hidden": false,
          "outputs_hidden": false
        },
        "nteract": {
          "transient": {
            "deleting": false
          }
        },
        "execution": {
          "iopub.status.busy": "2021-03-24T18:45:50.802Z",
          "iopub.execute_input": "2021-03-24T18:45:50.810Z",
          "shell.execute_reply": "2021-03-24T18:45:50.887Z",
          "iopub.status.idle": "2021-03-24T18:45:50.873Z"
        }
      }
    },
    {
      "cell_type": "markdown",
      "source": [
        "We can see above how long filtering the full 1.5 Gb data set took. Below we can verify that that filtered data only has values in the specified range:"
      ],
      "metadata": {
        "nteract": {
          "transient": {
            "deleting": false
          }
        }
      }
    },
    {
      "cell_type": "code",
      "source": [
        "temp = df.get('temperature')\n",
        "\n",
        "console.log(\"New number of rows:\", df.numRows)\n",
        "console.log(\"New min temp:\", temp.min())\n",
        "console.log(\"New max temp:\", temp.max())"
      ],
      "outputs": [
        {
          "output_type": "stream",
          "name": "stdout",
          "text": [
            "New number of rows: 4142582\n",
            "New min temp: -29.9\n",
            "New max temp: 119\n"
          ]
        }
      ],
      "execution_count": 9,
      "metadata": {
        "collapsed": true,
        "jupyter": {
          "source_hidden": false,
          "outputs_hidden": false
        },
        "nteract": {
          "transient": {
            "deleting": false
          }
        },
        "execution": {
          "iopub.status.busy": "2021-03-24T18:45:53.991Z",
          "iopub.execute_input": "2021-03-24T18:45:53.999Z",
          "iopub.status.idle": "2021-03-24T18:45:54.023Z",
          "shell.execute_reply": "2021-03-24T18:45:54.031Z"
        }
      }
    },
    {
      "cell_type": "markdown",
      "source": [
        "Another thing we might want to examine is the grouping of weather conditions. The original dataframe has very fine-grained weather conditions. e.g \"Fog\" vd \"Shallow Fog\", as seen below:"
      ],
      "metadata": {
        "nteract": {
          "transient": {
            "deleting": false
          }
        }
      }
    },
    {
      "cell_type": "code",
      "source": [
        "weather_groups = df.groupBy({by: \"weather_condition\"})\n",
        "JSON.stringify(weather_groups.nth(0).get(\"weather_condition\").toArrow().toArray())"
      ],
      "outputs": [
        {
          "output_type": "execute_result",
          "execution_count": 10,
          "data": {
            "text/plain": "'[\"Blowing Dust\",\"Blowing Dust / Windy\",\"Blowing Sand\",\"Blowing Snow\",\"Blowing Snow / Windy\",\"Clear\",\"Cloudy\",\"Cloudy / Windy\",\"Drifting Snow\",\"Drizzle\",\"Drizzle / Windy\",\"Drizzle and Fog\",\"Dust Whirls\",\"Fair\",\"Fair / Windy\",\"Fog\",\"Fog / Windy\",\"Freezing Drizzle\",\"Freezing Rain\",\"Freezing Rain / Windy\",\"Funnel Cloud\",\"Hail\",\"Haze\",\"Haze / Windy\",\"Heavy Blowing Snow\",\"Heavy Drizzle\",\"Heavy Freezing Drizzle\",\"Heavy Freezing Rain\",\"Heavy Ice Pellets\",\"Heavy Rain\",\"Heavy Rain / Windy\",\"Heavy Rain Shower\",\"Heavy Rain Showers\",\"Heavy Sleet\",\"Heavy Smoke\",\"Heavy Snow\",\"Heavy Snow / Windy\",\"Heavy Snow with Thunder\",\"Heavy T-Storm\",\"Heavy T-Storm / Windy\",\"Heavy Thunderstorms and Rain\",\"Heavy Thunderstorms and Snow\",\"Heavy Thunderstorms with Small Hail\",\"Ice Pellets\",\"Light Blowing Snow\",\"Light Drizzle\",\"Light Drizzle / Windy\",\"Light Fog\",\"Light Freezing Drizzle\",\"Light Freezing Fog\",\"Light Freezing Rain\",\"Light Freezing Rain / Windy\",\"Light Hail\",\"Light Haze\",\"Light Ice Pellets\",\"Light Rain\",\"Light Rain / Windy\",\"Light Rain Shower\",\"Light Rain Shower / Windy\",\"Light Rain Showers\",\"Light Rain with Thunder\",\"Light Sleet\",\"Light Sleet / Windy\",\"Light Snow\",\"Light Snow / Windy\",\"Light Snow Grains\",\"Light Snow Shower\",\"Light Snow Showers\",\"Light Snow and Sleet\",\"Light Snow and Sleet / Windy\",\"Light Snow with Thunder\",\"Light Thunderstorm\",\"Light Thunderstorms and Rain\",\"Light Thunderstorms and Snow\",\"Low Drifting Snow\",\"Mist\",\"Mostly Cloudy\",\"Mostly Cloudy / Windy\",\"N/A Precipitation\",\"Overcast\",\"Partial Fog\",\"Partial Fog / Windy\",\"Partly Cloudy\",\"Partly Cloudy / Windy\",\"Patches of Fog\",\"Patches of Fog / Windy\",\"Rain\",\"Rain / Windy\",\"Rain Shower\",\"Rain Showers\",\"Rain and Sleet\",\"Sand / Dust Whirls Nearby\",\"Sand / Dust Whirlwinds\",\"Sand / Dust Whirlwinds / Windy\",\"Scattered Clouds\",\"Shallow Fog\",\"Showers in the Vicinity\",\"Sleet\",\"Sleet / Windy\",\"Small Hail\",\"Smoke\",\"Smoke / Windy\",\"Snow\",\"Snow / Windy\",\"Snow Grains\",\"Snow Showers\",\"Snow and Sleet\",\"Snow and Sleet / Windy\",\"Snow and Thunder\",\"Squalls\",\"Squalls / Windy\",\"T-Storm\",\"T-Storm / Windy\",\"Thunder\",\"Thunder / Windy\",\"Thunder / Wintry Mix\",\"Thunder / Wintry Mix / Windy\",\"Thunder and Hail\",\"Thunder and Hail / Windy\",\"Thunder in the Vicinity\",\"Thunderstorm\",\"Thunderstorms and Rain\",\"Thunderstorms and Snow\",\"Tornado\",\"Volcanic Ash\",\"Widespread Dust\",\"Widespread Dust / Windy\",\"Wintry Mix\",\"Wintry Mix / Windy\"]'"
          },
          "metadata": {}
        }
      ],
      "execution_count": 10,
      "metadata": {
        "collapsed": true,
        "jupyter": {
          "source_hidden": false,
          "outputs_hidden": false
        },
        "nteract": {
          "transient": {
            "deleting": false
          }
        },
        "execution": {
          "iopub.status.busy": "2021-03-24T18:45:56.000Z",
          "iopub.execute_input": "2021-03-24T18:45:56.008Z",
          "iopub.status.idle": "2021-03-24T18:45:56.148Z",
          "shell.execute_reply": "2021-03-24T18:45:56.120Z"
        }
      }
    },
    {
      "cell_type": "markdown",
      "source": [
        "Let's use Cudf's GPU regex functions to get some quick counts of more generic weather categories. The `Series.containsRe` method will return a boolean mask that is true wherever the series value matches the regex:"
      ],
      "metadata": {
        "nteract": {
          "transient": {
            "deleting": false
          }
        }
      }
    },
    {
      "cell_type": "code",
      "source": [
        "weather = df.get(\"weather_condition\")\n",
        "\n",
        "console.time(\"regex\")\n",
        "clouds_mask = weather.containsRe(\"Cloud|Overcast\");\n",
        "rain_mask = weather.containsRe(\"Rain|T-Storm|Thunderstorm|Squalls|Drizzle\");\n",
        "snow_mask = weather.containsRe(\"Snow\")\n",
        "fog_mask = weather.containsRe(\"Fog\")\n",
        "ice_mask = weather.containsRe(\"Ice|Hail|Freezing|Sleet\")\n",
        "particulate_mask = weather.containsRe(\"Dust|Smoke|Sand\")\n",
        "console.timeEnd(\"regex\")"
      ],
      "outputs": [
        {
          "output_type": "stream",
          "name": "stdout",
          "text": [
            "regex: 185.819ms\n"
          ]
        }
      ],
      "execution_count": 11,
      "metadata": {
        "collapsed": true,
        "jupyter": {
          "source_hidden": false,
          "outputs_hidden": false
        },
        "nteract": {
          "transient": {
            "deleting": false
          }
        },
        "execution": {
          "iopub.status.busy": "2021-03-24T18:45:57.564Z",
          "iopub.execute_input": "2021-03-24T18:45:57.574Z",
          "iopub.status.idle": "2021-03-24T18:45:57.739Z",
          "shell.execute_reply": "2021-03-24T18:45:57.752Z"
        }
      }
    },
    {
      "cell_type": "markdown",
      "source": [
        "The categorization above is not necessarily exlcusive, and categories may overlap, but we can see how many accidents had a category involved by summing each mask:"
      ],
      "metadata": {
        "nteract": {
          "transient": {
            "deleting": false
          }
        }
      }
    },
    {
      "cell_type": "code",
      "source": [
        "console.time(\"sum\")\n",
        "console.log(\"Severity with clouds     :\", clouds_mask.sum())\n",
        "console.log(\"Severity with rain       :\", rain_mask.sum())\n",
        "console.log(\"Severity with snow       :\", snow_mask.sum())\n",
        "console.log(\"Severity with fog        :\", fog_mask.sum())\n",
        "console.log(\"Severity with particulate:\", particulate_mask.sum())\n",
        "console.log(\"Severity with ice        :\", ice_mask.sum())\n",
        "console.timeEnd(\"sum\")"
      ],
      "outputs": [
        {
          "output_type": "stream",
          "name": "stdout",
          "text": [
            "Severity with clouds     : 1890261\n",
            "Severity with rain       : 325213\n",
            "Severity with snow       : 67961\n",
            "Severity with fog        : 51781\n",
            "Severity with particulate: 8795\n",
            "Severity with ice        : 4689\n",
            "sum: 23.25ms\n"
          ]
        }
      ],
      "execution_count": 14,
      "metadata": {
        "collapsed": true,
        "jupyter": {
          "source_hidden": false,
          "outputs_hidden": false
        },
        "nteract": {
          "transient": {
            "deleting": false
          }
        },
        "execution": {
          "iopub.status.busy": "2021-03-24T18:47:16.208Z",
          "iopub.execute_input": "2021-03-24T18:47:16.214Z",
          "iopub.status.idle": "2021-03-24T18:47:16.246Z",
          "shell.execute_reply": "2021-03-24T18:47:16.259Z"
        }
      }
    },
    {
      "cell_type": "markdown",
      "source": [
        "We might be interested to look filter by these subsets to see the average severity when each category is involved:"
      ],
      "metadata": {
        "nteract": {
          "transient": {
            "deleting": false
          }
        }
      }
    },
    {
      "cell_type": "code",
      "source": [
        "console.time(\"means\")\n",
        "console.log(\"Severity with clouds     :\", df.filter(clouds_mask).get(\"severity\").mean())\n",
        "console.log(\"Severity with rain       :\", df.filter(rain_mask).get(\"severity\").mean())\n",
        "console.log(\"Severity with snow       :\", df.filter(snow_mask).get(\"severity\").mean())\n",
        "console.log(\"Severity with fog        :\", df.filter(fog_mask).get(\"severity\").mean())\n",
        "console.log(\"Severity with particulate:\", df.filter(particulate_mask).get(\"severity\").mean())\n",
        "console.log(\"Severity with ice        :\", df.filter(ice_mask).get(\"severity\").mean())\n",
        "console.timeEnd(\"means\")\n"
      ],
      "outputs": [
        {
          "output_type": "stream",
          "name": "stdout",
          "text": [
            "Severity with clouds     : 2.3207297828183515\n",
            "Severity with rain       : 2.351904751655069\n",
            "Severity with snow       : 2.4022012624887803\n",
            "Severity with fog        : 2.2152720109692745\n",
            "Severity with particulate: 2.2823194997157477\n",
            "Severity with ice        : 2.4768607378972063\n",
            "means: 156.491ms\n"
          ]
        }
      ],
      "execution_count": 15,
      "metadata": {
        "collapsed": true,
        "jupyter": {
          "source_hidden": false,
          "outputs_hidden": false
        },
        "nteract": {
          "transient": {
            "deleting": false
          }
        },
        "execution": {
          "iopub.status.busy": "2021-03-24T18:47:19.824Z",
          "iopub.execute_input": "2021-03-24T18:47:19.831Z",
          "iopub.status.idle": "2021-03-24T18:47:19.905Z",
          "shell.execute_reply": "2021-03-24T18:47:19.923Z"
        }
      }
    },
    {
      "cell_type": "markdown",
      "source": [
        "Unsurprisingly, the most severe accidents were recorded in ice and snow conditions.\n",
        "\n",
        "Hopefully this has been a helpful introduction to Cudf in node-rapids! For more information [see the documentation](https://rapidsai.github.io/node-rapids/)."
      ],
      "metadata": {
        "nteract": {
          "transient": {
            "deleting": false
          }
        }
      }
    }
  ],
  "metadata": {
    "kernel_info": {
      "name": "python3"
    },
    "language_info": {
      "name": "javascript",
      "version": "14.10.1",
      "mimetype": "application/javascript",
      "file_extension": ".js"
    },
    "kernelspec": {
      "argv": [
        "/usr/bin/python3",
        "-m",
        "ipykernel_launcher",
        "-f",
        "{connection_file}"
      ],
      "display_name": "Python 3",
      "language": "python",
      "name": "python3"
    },
    "nteract": {
      "version": "0.28.0"
    }
  },
  "nbformat": 4,
  "nbformat_minor": 0
}