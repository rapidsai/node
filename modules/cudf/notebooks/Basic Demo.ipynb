{
  "cells": [
    {
      "cell_type": "markdown",
      "source": [
        "## Simple ETL / Exploration with node-rapids\n",
        "\n",
        "This notebook will demonstrate how basic APIs from `node-rapids` ([GitHub](https://github.com/rapidsai/node-rapids), [docs](https://rapidsai.github.io/node-rapids/)) may be used to load and process data from the GPU in Node.\n",
        "\n",
        "First, we load the cudf module from `node-rapids`:"
      ],
      "metadata": {
        "nteract": {
          "transient": {
            "deleting": false
          }
        }
      }
    },
    {
      "cell_type": "code",
      "source": [
        "cudf = require(\"@rapidsai/cudf\")"
      ],
      "outputs": [],
      "execution_count": null,
      "metadata": {
        "collapsed": true,
        "jupyter": {
          "source_hidden": false,
          "outputs_hidden": false
        },
        "nteract": {
          "transient": {
            "deleting": false
          }
        },
        "execution": {
          "iopub.status.busy": "2021-09-24T16:40:07.620Z",
          "iopub.execute_input": "2021-09-24T16:40:07.628Z",
          "iopub.status.idle": "2021-09-24T16:40:07.651Z",
          "shell.execute_reply": "2021-09-24T16:40:07.733Z"
        }
      }
    },
    {
      "cell_type": "markdown",
      "source": [
        "We are going to look at the 1.5 Gb [US Accidents (Dec 20) dataset from Kaggle](https://www.kaggle.com/sobhanmoosavi/us-accidents?select=US_Accidents_Dec20.csv). First we need to define the columns and associated datatypes for this table:"
      ],
      "metadata": {
        "nteract": {
          "transient": {
            "deleting": false
          }
        }
      }
    },
    {
      "cell_type": "code",
      "source": [
        "var bool8 = new cudf.Bool8;\n",
        "var int32 = new cudf.Int32;\n",
        "var float64 = new cudf.Float64;\n",
        "var utf8String = new cudf.Utf8String;\n",
        "\n",
        "columns = {\n",
        "    id: utf8String, source: utf8String, tmc: float64, severity: int32, start_time: utf8String, end_time: utf8String, start_lat: float64, start_lng: float64, end_lat: float64, end_lng: float64, distance: float64, description: utf8String, number: int32, street: utf8String, side: utf8String, city: utf8String, county: utf8String, state: utf8String, zipcode: utf8String, country: utf8String, timezone: utf8String, airport_code: utf8String,\n",
        "    weather_timestamp: utf8String, temperature: float64, wind_chill: float64, humidity: float64, pressure: float64,\n",
        "    visibility: float64, wind_direction: utf8String, wind_speed: float64, precipitation: float64, weather_condition: utf8String,\n",
        "    amenity: bool8, bump: bool8, crossing: bool8, give_way: bool8, junction: bool8, no_exit: bool8, railway: bool8,\n",
        "    roundabout: bool8, station: bool8, stop: bool8, traffic_calming: bool8, traffic_signal: bool8, turning_loop: bool8,\n",
        "    sunrise_sunset: utf8String, civil_twilight: utf8String, nautical_twighlight: utf8String, astronomical_twighlight: utf8String\n",
        "}"
      ],
      "outputs": [],
      "execution_count": null,
      "metadata": {
        "collapsed": true,
        "jupyter": {
          "source_hidden": false,
          "outputs_hidden": true
        },
        "nteract": {
          "transient": {
            "deleting": false
          }
        },
        "execution": {
          "iopub.status.busy": "2021-09-24T16:40:07.664Z",
          "iopub.execute_input": "2021-09-24T16:40:07.671Z",
          "iopub.status.idle": "2021-09-24T16:40:07.692Z",
          "shell.execute_reply": "2021-09-24T16:40:07.745Z"
        }
      }
    },
    {
      "cell_type": "code",
      "source": [
        "console.time(\"readCSV\")\n",
        "df = cudf.DataFrame.readCSV({\n",
        "    header: 0,\n",
        "    sourceType: 'files',\n",
        "    sources: [\"data/US_Accidents_Dec20.csv\"],\n",
        "    dataTypes: columns,\n",
        "    columnsToReturn: Object.keys(columns)\n",
        "});\n",
        "console.timeEnd(\"readCSV\")"
      ],
      "outputs": [],
      "execution_count": null,
      "metadata": {
        "collapsed": true,
        "jupyter": {
          "source_hidden": false,
          "outputs_hidden": false
        },
        "nteract": {
          "transient": {
            "deleting": false
          }
        },
        "execution": {
          "iopub.status.busy": "2021-09-24T16:40:07.704Z",
          "iopub.execute_input": "2021-09-24T16:40:07.712Z",
          "iopub.status.idle": "2021-09-24T16:40:13.012Z",
          "shell.execute_reply": "2021-09-24T16:40:13.217Z"
        }
      }
    },
    {
      "cell_type": "markdown",
      "source": [
        "Now that we have loaded the CSV into a GPU DataFrame `df` we can look at some basic information like number of rows and columns:"
      ],
      "metadata": {
        "nteract": {
          "transient": {
            "deleting": false
          }
        }
      }
    },
    {
      "cell_type": "code",
      "source": [
        "console.log(\"Number of rows:\", df.numRows)\n",
        "console.log(\"Number of cols:\", df.numColumns)"
      ],
      "outputs": [],
      "execution_count": null,
      "metadata": {
        "collapsed": true,
        "jupyter": {
          "source_hidden": false,
          "outputs_hidden": false
        },
        "nteract": {
          "transient": {
            "deleting": false
          }
        },
        "execution": {
          "iopub.status.busy": "2021-09-24T16:40:13.022Z",
          "iopub.execute_input": "2021-09-24T16:40:13.030Z",
          "iopub.status.idle": "2021-09-24T16:40:13.056Z",
          "shell.execute_reply": "2021-09-24T16:40:13.224Z"
        }
      }
    },
    {
      "cell_type": "markdown",
      "source": [
        "This data set has lots of columns we don't really care about. We can pare things down using the `Datafame.drop` method:"
      ],
      "metadata": {
        "nteract": {
          "transient": {
            "deleting": false
          }
        }
      }
    },
    {
      "cell_type": "code",
      "source": [
        "df = df.drop([\n",
        "    'civil_twilight', 'nautical_twighlight', 'astronomical_twighlight', 'wind_speed', 'wind_direction', 'wind_chill', 'humidity', \n",
        "    'pressure', 'amenity', 'bump', 'give_way', 'no_exit', 'railway', 'roundabout', 'station', 'traffic_calming', 'turning_loop', 'timezone', \n",
        "    'airport_code', 'tmc', 'start_time', 'end_time', 'start_lat', 'start_lng', 'end_lat', 'end_lng', 'street', 'country', 'distance']\n",
        ")"
      ],
      "outputs": [],
      "execution_count": null,
      "metadata": {
        "collapsed": true,
        "jupyter": {
          "source_hidden": false,
          "outputs_hidden": true
        },
        "nteract": {
          "transient": {
            "deleting": false
          }
        },
        "execution": {
          "iopub.status.busy": "2021-09-24T16:40:13.069Z",
          "iopub.execute_input": "2021-09-24T16:40:13.077Z",
          "iopub.status.idle": "2021-09-24T16:40:13.095Z",
          "shell.execute_reply": "2021-09-24T16:40:13.229Z"
        }
      }
    },
    {
      "cell_type": "code",
      "source": [
        "df.names"
      ],
      "outputs": [],
      "execution_count": null,
      "metadata": {
        "collapsed": true,
        "jupyter": {
          "source_hidden": false,
          "outputs_hidden": false
        },
        "nteract": {
          "transient": {
            "deleting": false
          }
        },
        "execution": {
          "iopub.status.busy": "2021-09-24T16:40:13.109Z",
          "iopub.execute_input": "2021-09-24T16:40:13.117Z",
          "iopub.status.idle": "2021-09-24T16:40:13.134Z",
          "shell.execute_reply": "2021-09-24T16:40:13.232Z"
        }
      }
    },
    {
      "cell_type": "code",
      "source": [
        "temp = df.get('temperature')\n",
        "console.log(\"Min temp:\", temp.min())\n",
        "console.log(\"Max temp:\", temp.max())"
      ],
      "outputs": [],
      "execution_count": null,
      "metadata": {
        "collapsed": true,
        "jupyter": {
          "source_hidden": false,
          "outputs_hidden": false
        },
        "nteract": {
          "transient": {
            "deleting": false
          }
        },
        "execution": {
          "iopub.status.busy": "2021-09-24T16:40:13.144Z",
          "iopub.execute_input": "2021-09-24T16:40:13.151Z",
          "iopub.status.idle": "2021-09-24T16:40:13.177Z",
          "shell.execute_reply": "2021-09-24T16:40:13.237Z"
        }
      }
    },
    {
      "cell_type": "markdown",
      "source": [
        "Some of the temperature values are clearly bad data, let's restrict the datafame to a more reasonable range. The `lt` and `gt` unary operators return a boolean mask where values are less or greater than ven values, respectively. These masks can be combined with the `logical_or` operator and then passed to `DataFrame.gather` to restrict to only the valid rows we care about:"
      ],
      "metadata": {
        "nteract": {
          "transient": {
            "deleting": false
          }
        }
      }
    },
    {
      "cell_type": "code",
      "source": [
        "temp = df.get('temperature')\n",
        "\n",
        "console.time(\"filter\")\n",
        "valid_temps = temp.lt(120).logicalAnd(temp.gt(-30))\n",
        "df = df.filter(valid_temps)\n",
        "console.timeEnd(\"filter\")"
      ],
      "outputs": [],
      "execution_count": null,
      "metadata": {
        "collapsed": true,
        "jupyter": {
          "source_hidden": false,
          "outputs_hidden": false
        },
        "nteract": {
          "transient": {
            "deleting": false
          }
        },
        "execution": {
          "iopub.status.busy": "2021-09-24T16:40:13.192Z",
          "iopub.execute_input": "2021-09-24T16:40:13.198Z",
          "shell.execute_reply": "2021-09-24T16:40:14.072Z",
          "iopub.status.idle": "2021-09-24T16:40:14.003Z"
        }
      }
    },
    {
      "cell_type": "markdown",
      "source": [
        "We can see above how long filtering the full 1.5 Gb data set took. Below we can verify that that filtered data only has values in the specified range:"
      ],
      "metadata": {
        "nteract": {
          "transient": {
            "deleting": false
          }
        }
      }
    },
    {
      "cell_type": "code",
      "source": [
        "temp = df.get('temperature')\n",
        "\n",
        "console.log(\"New number of rows:\", df.numRows)\n",
        "console.log(\"New min temp:\", temp.min())\n",
        "console.log(\"New max temp:\", temp.max())"
      ],
      "outputs": [],
      "execution_count": null,
      "metadata": {
        "collapsed": true,
        "jupyter": {
          "source_hidden": false,
          "outputs_hidden": false
        },
        "nteract": {
          "transient": {
            "deleting": false
          }
        },
        "execution": {
          "iopub.status.busy": "2021-09-24T16:40:14.014Z",
          "iopub.execute_input": "2021-09-24T16:40:14.021Z",
          "iopub.status.idle": "2021-09-24T16:40:14.047Z",
          "shell.execute_reply": "2021-09-24T16:40:14.076Z"
        }
      }
    },
    {
      "cell_type": "markdown",
      "source": [
        "Another thing we might want to examine is the grouping of weather conditions. The original dataframe has very fine-grained weather conditions. e.g \"Fog\" vd \"Shallow Fog\", as seen below:"
      ],
      "metadata": {
        "nteract": {
          "transient": {
            "deleting": false
          }
        }
      }
    },
    {
      "cell_type": "code",
      "source": [
        "weather_groups = df.groupBy({by: \"weather_condition\"})\n",
        "JSON.stringify(weather_groups.nth(0).get(\"weather_condition\").toArrow().toArray())"
      ],
      "outputs": [],
      "execution_count": null,
      "metadata": {
        "collapsed": true,
        "jupyter": {
          "source_hidden": false,
          "outputs_hidden": false
        },
        "nteract": {
          "transient": {
            "deleting": false
          }
        },
        "execution": {
          "iopub.status.busy": "2021-09-24T16:40:14.057Z",
          "iopub.execute_input": "2021-09-24T16:40:14.064Z",
          "iopub.status.idle": "2021-09-24T16:40:14.112Z",
          "shell.execute_reply": "2021-09-24T16:40:14.096Z"
        }
      }
    },
    {
      "cell_type": "markdown",
      "source": [
        "Let's use Cudf's GPU regex functions to get some quick counts of more generic weather categories. The `Series.containsRe` method will return a boolean mask that is true wherever the series value matches the regex:"
      ],
      "metadata": {
        "nteract": {
          "transient": {
            "deleting": false
          }
        }
      }
    },
    {
      "cell_type": "code",
      "source": [
        "weather = df.get(\"weather_condition\")\n",
        "\n",
        "console.time(\"regex\")\n",
        "clouds_mask = weather.containsRe(\"Cloud|Overcast\");\n",
        "rain_mask = weather.containsRe(\"Rain|T-Storm|Thunderstorm|Squalls|Drizzle\");\n",
        "snow_mask = weather.containsRe(\"Snow\")\n",
        "fog_mask = weather.containsRe(\"Fog\")\n",
        "ice_mask = weather.containsRe(\"Ice|Hail|Freezing|Sleet\")\n",
        "particulate_mask = weather.containsRe(\"Dust|Smoke|Sand\")\n",
        "console.timeEnd(\"regex\")"
      ],
      "outputs": [],
      "execution_count": null,
      "metadata": {
        "collapsed": true,
        "jupyter": {
          "source_hidden": false,
          "outputs_hidden": false
        },
        "nteract": {
          "transient": {
            "deleting": false
          }
        },
        "execution": {
          "iopub.status.busy": "2021-09-24T16:40:14.122Z",
          "iopub.execute_input": "2021-09-24T16:40:14.129Z",
          "iopub.status.idle": "2021-09-24T16:40:14.275Z",
          "shell.execute_reply": "2021-09-24T16:40:14.407Z"
        }
      }
    },
    {
      "cell_type": "markdown",
      "source": [
        "The categorization above is not necessarily exlcusive, and categories may overlap, but we can see how many accidents had a category involved by summing each mask:"
      ],
      "metadata": {
        "nteract": {
          "transient": {
            "deleting": false
          }
        }
      }
    },
    {
      "cell_type": "code",
      "source": [
        "console.time(\"sum\")\n",
        "console.log(\"Severity with clouds     :\", clouds_mask.sum())\n",
        "console.log(\"Severity with rain       :\", rain_mask.sum())\n",
        "console.log(\"Severity with snow       :\", snow_mask.sum())\n",
        "console.log(\"Severity with fog        :\", fog_mask.sum())\n",
        "console.log(\"Severity with particulate:\", particulate_mask.sum())\n",
        "console.log(\"Severity with ice        :\", ice_mask.sum())\n",
        "console.timeEnd(\"sum\")"
      ],
      "outputs": [],
      "execution_count": null,
      "metadata": {
        "collapsed": true,
        "jupyter": {
          "source_hidden": false,
          "outputs_hidden": false
        },
        "nteract": {
          "transient": {
            "deleting": false
          }
        },
        "execution": {
          "iopub.status.busy": "2021-09-24T16:40:14.291Z",
          "iopub.execute_input": "2021-09-24T16:40:14.302Z",
          "iopub.status.idle": "2021-09-24T16:40:14.342Z",
          "shell.execute_reply": "2021-09-24T16:40:14.411Z"
        }
      }
    },
    {
      "cell_type": "markdown",
      "source": [
        "We might be interested to look filter by these subsets to see the average severity when each category is involved:"
      ],
      "metadata": {
        "nteract": {
          "transient": {
            "deleting": false
          }
        }
      }
    },
    {
      "cell_type": "code",
      "source": [
        "console.time(\"means\")\n",
        "console.log(\"Severity with clouds     :\", df.filter(clouds_mask).get(\"severity\").mean())\n",
        "console.log(\"Severity with rain       :\", df.filter(rain_mask).get(\"severity\").mean())\n",
        "console.log(\"Severity with snow       :\", df.filter(snow_mask).get(\"severity\").mean())\n",
        "console.log(\"Severity with fog        :\", df.filter(fog_mask).get(\"severity\").mean())\n",
        "console.log(\"Severity with particulate:\", df.filter(particulate_mask).get(\"severity\").mean())\n",
        "console.log(\"Severity with ice        :\", df.filter(ice_mask).get(\"severity\").mean())\n",
        "console.timeEnd(\"means\")\n"
      ],
      "outputs": [],
      "execution_count": null,
      "metadata": {
        "collapsed": true,
        "jupyter": {
          "source_hidden": false,
          "outputs_hidden": false
        },
        "nteract": {
          "transient": {
            "deleting": false
          }
        },
        "execution": {
          "iopub.status.busy": "2021-09-24T16:40:14.355Z",
          "iopub.execute_input": "2021-09-24T16:40:14.364Z",
          "iopub.status.idle": "2021-09-24T16:40:14.401Z",
          "shell.execute_reply": "2021-09-24T16:40:14.415Z"
        }
      }
    },
    {
      "cell_type": "markdown",
      "source": [
        "Unsurprisingly, the most severe accidents were recorded in ice and snow conditions.\n",
        "\n",
        "Hopefully this has been a helpful introduction to Cudf in node-rapids! For more information [see the documentation](https://rapidsai.github.io/node-rapids/)."
      ],
      "metadata": {
        "nteract": {
          "transient": {
            "deleting": false
          }
        }
      }
    }
  ],
  "metadata": {
    "kernel_info": {
      "name": "javascript"
    },
    "language_info": {
      "name": "javascript",
      "version": "16.9.1",
      "mimetype": "application/javascript",
      "file_extension": ".js"
    },
    "kernelspec": {
      "argv": [
        "ijskernel",
        "--hide-undefined",
        "{connection_file}",
        "--protocol=5.0"
      ],
      "display_name": "Javascript (Node.js)",
      "language": "javascript",
      "name": "javascript"
    },
    "nteract": {
      "version": "0.28.0"
    }
  },
  "nbformat": 4,
  "nbformat_minor": 0
}