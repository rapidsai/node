{
  "cells": [
    {
      "cell_type": "markdown",
      "id": "eb9a59dd-60b9-40bf-91c6-99fe596466d7",
      "metadata": {},
      "source": [
        "## Hypergraph\n",
        "\n",
        "\n",
        "This notebook demonstrates the JavaScript implementation of the hypergraph transformation. The transformation finds relationships between entities ( unique values of each `DataFrame` column) by linking them through their shared rows. This affords construction of a graph from any structured high-dimensional dataset, i.e. cyber security event logs. (The simple example here was inspired by this [Graphistry blog post](https://www.graphistry.com/blog/no-code-file-uploader-hypergraph).)\n",
        "\n",
        "First let's import the relevant classes and functions from ***@rapidsai***"
      ]
    },
    {
      "cell_type": "code",
      "execution_count": 6,
      "id": "df5f2242-2972-4274-bba3-787855584b7e",
      "metadata": {},
      "outputs": [],
      "source": [
        "var {Series, DataFrame} = require(\"@rapidsai/cudf\")\n",
        "var {hypergraphDirect} = require(\"@rapidsai/cugraph\")"
      ]
    },
    {
      "cell_type": "markdown",
      "id": "92fd8956-677d-4df8-bd28-8d92aaa58efb",
      "metadata": {},
      "source": [
        "Now let's construct a `DataFrame` that represents events from a network log. In this case suppose someone from host **128.0.0.1** is scaning hosts **172.0.0.2** and **172.0.0.3** for vulnerability **cve-123**."
      ]
    },
    {
      "cell_type": "code",
      "execution_count": 3,
      "id": "ad96b3e1-c8d2-422b-9c7e-f32626e28825",
      "metadata": {},
      "outputs": [],
      "source": [
        "var log = new DataFrame({\n",
        "    src_ip: ['128.0.0.1', '128.0.0.1'], \n",
        "    dest_ip: ['172.0.0.2', '172.0.0.3'],\n",
        "    vuln: ['cve-123', 'cve-123']\n",
        "})"
      ]
    },
    {
      "cell_type": "markdown",
      "id": "d9b0f5c3-18ba-48f7-86b2-e548fd50128c",
      "metadata": {},
      "source": [
        "Now we can call `hypergraphDirect` on this `DataFrame` to generate a graph of inferred relationships:"
      ]
    },
    {
      "cell_type": "code",
      "execution_count": 7,
      "id": "46a4e394-4dc0-4143-9387-b348bfea8775",
      "metadata": {},
      "outputs": [],
      "source": [
        "var h = hypergraphDirect(log)"
      ]
    },
    {
      "cell_type": "markdown",
      "id": "c0182472-a2dc-4375-96f1-b7f248b95ba2",
      "metadata": {},
      "source": [
        "The `nodes` property shows all the entities inferred from the original log. In this case we see all of the host IPs as well as the specific vulnerability show up in the `node_id` column:"
      ]
    },
    {
      "cell_type": "code",
      "execution_count": 8,
      "id": "32262afd-faef-4012-8b6a-61d5130b32b7",
      "metadata": {},
      "outputs": [
        {
          "name": "stdout",
          "output_type": "stream",
          "text": [
            "  dest_ip    src_ip    vuln            node_id node_type category\n",
            "172.0.0.2      null    null dest_ip::172.0.0.2   dest_ip  dest_ip\n",
            "172.0.0.3      null    null dest_ip::172.0.0.3   dest_ip  dest_ip\n",
            "     null 128.0.0.1    null  src_ip::128.0.0.1    src_ip   src_ip\n",
            "     null      null cve-123      vuln::cve-123      vuln     vuln\n",
            "\n"
          ]
        }
      ],
      "source": [
        "console.log(h.nodes.toString())"
      ]
    },
    {
      "cell_type": "markdown",
      "id": "c8076ee3-0b68-4e29-94bd-b6dd82d112e9",
      "metadata": {},
      "source": [
        "All of the inferred relationships show up in the `edges` property:"
      ]
    },
    {
      "cell_type": "code",
      "execution_count": 10,
      "id": "9d33c8a1-6256-44d1-a0ae-83fb48bf4491",
      "metadata": {},
      "outputs": [
        {
          "name": "stdout",
          "output_type": "stream",
          "text": [
            "   event_id       edge_type                src               dst   dest_ip    src_ip    vuln\n",
            "event_id::0 dest_ip::src_ip dest_ip::172.0.0.2 src_ip::128.0.0.1 172.0.0.2 128.0.0.1 cve-123\n",
            "event_id::1 dest_ip::src_ip dest_ip::172.0.0.3 src_ip::128.0.0.1 172.0.0.3 128.0.0.1 cve-123\n",
            "event_id::0   dest_ip::vuln dest_ip::172.0.0.2     vuln::cve-123 172.0.0.2 128.0.0.1 cve-123\n",
            "event_id::1   dest_ip::vuln dest_ip::172.0.0.3     vuln::cve-123 172.0.0.3 128.0.0.1 cve-123\n",
            "event_id::0    src_ip::vuln  src_ip::128.0.0.1     vuln::cve-123 172.0.0.2 128.0.0.1 cve-123\n",
            "event_id::1    src_ip::vuln  src_ip::128.0.0.1     vuln::cve-123 172.0.0.3 128.0.0.1 cve-123\n",
            "\n"
          ]
        }
      ],
      "source": [
        "console.log(h.edges.toString())"
      ]
    },
    {
      "cell_type": "markdown",
      "id": "43304eb7-9037-45b2-9ad7-0931ff1a55cc",
      "metadata": {},
      "source": [
        "Examining this output, we see:\n",
        "\n",
        "* the **172.0.0.*** hosts are both related to the **128.0.0.1** host  \n",
        "* the **172.0.0.*** hosts are both related to the vulnerability **cve-123**\n",
        "* the **128.0.0.1** host is related to the vulnerability **cve-123** in two different ways"
      ]
    },
    {
      "cell_type": "code",
      "execution_count": 12,
      "id": "0e3cd69f-9257-4a0d-9e86-82ead952033b",
      "metadata": {},
      "outputs": [
        {
          "name": "stdout",
          "output_type": "stream",
          "text": [
            "  dest_ip    src_ip    vuln            node_id node_type category\n",
            "172.0.0.2      null    null dest_ip::172.0.0.2   dest_ip  dest_ip\n",
            "172.0.0.3      null    null dest_ip::172.0.0.3   dest_ip  dest_ip\n",
            "     null 128.0.0.1    null  src_ip::128.0.0.1    src_ip   src_ip\n",
            "     null      null cve-123      vuln::cve-123      vuln     vuln\n",
            "\n"
          ]
        }
      ],
      "source": [
        "console.log(h.entities.toString())"
      ]
    },
    {
      "cell_type": "code",
      "execution_count": null,
      "id": "cedde37a-e1d1-4b24-af36-32748d2e5e38",
      "metadata": {},
      "outputs": [],
      "source": []
    }
  ],
  "metadata": {
    "kernelspec": {
      "display_name": "Javascript (Node.js)",
      "language": "javascript",
      "name": "javascript"
    },
    "language_info": {
      "file_extension": ".js",
      "mimetype": "application/javascript",
      "name": "javascript",
      "version": "18.2.0"
    }
  },
  "nbformat": 4,
  "nbformat_minor": 5
}
