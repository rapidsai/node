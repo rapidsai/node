{
 "cells": [
  {
   "cell_type": "code",
   "execution_count": null,
   "metadata": {},
   "outputs": [],
   "source": [
    "var graphDemoWindow = require('@rapidsai/demo-graph');\n",
    "\n",
    "graphDemoWindow.open({\n",
    "    _title: 'Graph Demo',\n",
    "    width: 1024,\n",
    "    height: 768,\n",
    "    layoutParams: {\n",
    "        scalingRatio: 5,\n",
    "        autoCenter: false,\n",
    "    }\n",
    "})"
   ]
  }
 ],
 "metadata": {
  "kernel_info": {
   "name": "javascript"
  },
  "kernelspec": {
   "argv": [
    "ijskernel",
    "--hide-undefined",
    "{connection_file}",
    "--protocol=5.0"
   ],
   "display_name": "Javascript (Node.js)",
   "language": "javascript",
   "name": "javascript"
  },
  "language_info": {
   "file_extension": ".js",
   "mimetype": "application/javascript",
   "name": "javascript"
  }
 },
 "nbformat": 4,
 "nbformat_minor": 0
}
