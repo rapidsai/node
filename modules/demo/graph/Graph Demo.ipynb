{
  "cells": [
    {
      "cell_type": "code",
      "source": [
        "var graphDemoWindow = require('./index');\n",
        "\n",
        "graphDemoWindow.open({\n",
        "    _title: 'Graph Demo',\n",
        "    width: 1024,\n",
        "    height: 768,\n",
        "    layoutParams: {\n",
        "        scalingRatio: 5,\n",
        "        autoCenter: false,\n",
        "    }\n",
        "})"
      ],
      "outputs": [
        {
          "output_type": "stream",
          "name": "stdout",
          "text": [
            "deck: deck.gl 8.4.9 - set deck.log.level=1 (or higher) to trace attribute updates\n"
          ]
        }
      ],
      "execution_count": 1,
      "metadata": {
        "collapsed": true,
        "jupyter": {
          "source_hidden": false,
          "outputs_hidden": false
        },
        "nteract": {
          "transient": {
            "deleting": false
          }
        },
        "execution": {
          "iopub.status.busy": "2021-04-07T00:59:12.565Z",
          "iopub.execute_input": "2021-04-07T00:59:12.590Z",
          "iopub.status.idle": "2021-04-07T00:59:16.404Z",
          "shell.execute_reply": "2021-04-07T00:59:16.387Z"
        }
      }
    }
  ],
  "metadata": {
    "kernel_info": {
      "name": "javascript"
    },
    "language_info": {
      "name": "javascript",
      "version": "16.6.2",
      "mimetype": "application/javascript",
      "file_extension": ".js"
    },
    "kernelspec": {
      "argv": [
        "ijskernel",
        "--hide-undefined",
        "{connection_file}",
        "--protocol=5.0"
      ],
      "display_name": "Javascript (Node.js)",
      "language": "javascript",
      "name": "javascript"
    },
    "nteract": {
      "version": "0.28.0"
    }
  },
  "nbformat": 4,
  "nbformat_minor": 0
}
